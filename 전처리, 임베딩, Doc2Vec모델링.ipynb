{
 "cells": [
  {
   "cell_type": "code",
   "execution_count": 1,
   "id": "2726d727",
   "metadata": {},
   "outputs": [],
   "source": [
    "import pandas as pd\n",
    "import numpy as np\n",
    "import re\n",
    "from konlpy.tag import Mecab"
   ]
  },
  {
   "cell_type": "markdown",
   "id": "d0b914e3",
   "metadata": {},
   "source": [
    "# 수집한 데이터 로드, 결측치 확인, 제거"
   ]
  },
  {
   "cell_type": "code",
   "execution_count": 3,
   "id": "7a2d6107",
   "metadata": {},
   "outputs": [
    {
     "data": {
      "text/html": [
       "<div>\n",
       "<style scoped>\n",
       "    .dataframe tbody tr th:only-of-type {\n",
       "        vertical-align: middle;\n",
       "    }\n",
       "\n",
       "    .dataframe tbody tr th {\n",
       "        vertical-align: top;\n",
       "    }\n",
       "\n",
       "    .dataframe thead th {\n",
       "        text-align: right;\n",
       "    }\n",
       "</style>\n",
       "<table border=\"1\" class=\"dataframe\">\n",
       "  <thead>\n",
       "    <tr style=\"text-align: right;\">\n",
       "      <th></th>\n",
       "      <th>title</th>\n",
       "      <th>preview</th>\n",
       "    </tr>\n",
       "  </thead>\n",
       "  <tbody>\n",
       "    <tr>\n",
       "      <th>0</th>\n",
       "      <td>불편한 편의점</td>\n",
       "      <td>염영숙 여사가 가방 안에 파우치가 없다는 걸 알았을 때 기차는 평택 부근을 지나고 ...</td>\n",
       "    </tr>\n",
       "    <tr>\n",
       "      <th>1</th>\n",
       "      <td>달러구트 꿈 백화점 : 잠들어야만 입장 가능합니다</td>\n",
       "      <td>[목차]\\n\\n작가의 말\\n프롤로그. 3번째 제자의 유서 깊은 가게\\n\\n1. 주문...</td>\n",
       "    </tr>\n",
       "    <tr>\n",
       "      <th>2</th>\n",
       "      <td>미드나잇 라이브러리</td>\n",
       "      <td>지은이 매트 헤이그Matt Haig\\n“강렬한 존재감과 위대한 재능을 가진 소설가”...</td>\n",
       "    </tr>\n",
       "    <tr>\n",
       "      <th>3</th>\n",
       "      <td>기적의 분식집</td>\n",
       "      <td>1◆\\n이계로 통하는 차원 문\\n\\n“흐으윽.”\\n강성호는 기지개를 켜며 일어났다....</td>\n",
       "    </tr>\n",
       "    <tr>\n",
       "      <th>4</th>\n",
       "      <td>유리의 살의</td>\n",
       "      <td>* 이 작품은 픽션입니다.\\n실제 인물, 단체와는 일절 관계가 없습니다.\\n\\n\\n...</td>\n",
       "    </tr>\n",
       "    <tr>\n",
       "      <th>...</th>\n",
       "      <td>...</td>\n",
       "      <td>...</td>\n",
       "    </tr>\n",
       "    <tr>\n",
       "      <th>7769</th>\n",
       "      <td>완전한 행복</td>\n",
       "      <td></td>\n",
       "    </tr>\n",
       "    <tr>\n",
       "      <th>7770</th>\n",
       "      <td>프로젝트 헤일메리</td>\n",
       "      <td></td>\n",
       "    </tr>\n",
       "    <tr>\n",
       "      <th>7771</th>\n",
       "      <td>1984 (한글판) 019</td>\n",
       "      <td></td>\n",
       "    </tr>\n",
       "    <tr>\n",
       "      <th>7772</th>\n",
       "      <td>구의 증명 [할인]</td>\n",
       "      <td></td>\n",
       "    </tr>\n",
       "    <tr>\n",
       "      <th>7773</th>\n",
       "      <td>대도시의 사랑법</td>\n",
       "      <td></td>\n",
       "    </tr>\n",
       "  </tbody>\n",
       "</table>\n",
       "<p>7774 rows × 2 columns</p>\n",
       "</div>"
      ],
      "text/plain": [
       "                            title  \\\n",
       "0                         불편한 편의점   \n",
       "1     달러구트 꿈 백화점 : 잠들어야만 입장 가능합니다   \n",
       "2                      미드나잇 라이브러리   \n",
       "3                         기적의 분식집   \n",
       "4                          유리의 살의   \n",
       "...                           ...   \n",
       "7769                       완전한 행복   \n",
       "7770                    프로젝트 헤일메리   \n",
       "7771               1984 (한글판) 019   \n",
       "7772                   구의 증명 [할인]   \n",
       "7773                     대도시의 사랑법   \n",
       "\n",
       "                                                preview  \n",
       "0     염영숙 여사가 가방 안에 파우치가 없다는 걸 알았을 때 기차는 평택 부근을 지나고 ...  \n",
       "1     [목차]\\n\\n작가의 말\\n프롤로그. 3번째 제자의 유서 깊은 가게\\n\\n1. 주문...  \n",
       "2     지은이 매트 헤이그Matt Haig\\n“강렬한 존재감과 위대한 재능을 가진 소설가”...  \n",
       "3     1◆\\n이계로 통하는 차원 문\\n\\n“흐으윽.”\\n강성호는 기지개를 켜며 일어났다....  \n",
       "4     * 이 작품은 픽션입니다.\\n실제 인물, 단체와는 일절 관계가 없습니다.\\n\\n\\n...  \n",
       "...                                                 ...  \n",
       "7769                                                     \n",
       "7770                                                     \n",
       "7771                                                     \n",
       "7772                                                     \n",
       "7773                                                     \n",
       "\n",
       "[7774 rows x 2 columns]"
      ]
     },
     "execution_count": 3,
     "metadata": {},
     "output_type": "execute_result"
    }
   ],
   "source": [
    "basic_df = pd.read_json('yes24.3.json')\n",
    "basic_df"
   ]
  },
  {
   "cell_type": "code",
   "execution_count": 4,
   "id": "9e93f919",
   "metadata": {},
   "outputs": [
    {
     "name": "stdout",
     "output_type": "stream",
     "text": [
      "<class 'pandas.core.frame.DataFrame'>\n",
      "Int64Index: 7774 entries, 0 to 7773\n",
      "Data columns (total 2 columns):\n",
      " #   Column   Non-Null Count  Dtype \n",
      "---  ------   --------------  ----- \n",
      " 0   title    7774 non-null   object\n",
      " 1   preview  7774 non-null   object\n",
      "dtypes: object(2)\n",
      "memory usage: 182.2+ KB\n"
     ]
    }
   ],
   "source": [
    "basic_df.info()"
   ]
  },
  {
   "cell_type": "code",
   "execution_count": 5,
   "id": "0cb5c01b",
   "metadata": {},
   "outputs": [
    {
     "data": {
      "text/html": [
       "<div>\n",
       "<style scoped>\n",
       "    .dataframe tbody tr th:only-of-type {\n",
       "        vertical-align: middle;\n",
       "    }\n",
       "\n",
       "    .dataframe tbody tr th {\n",
       "        vertical-align: top;\n",
       "    }\n",
       "\n",
       "    .dataframe thead th {\n",
       "        text-align: right;\n",
       "    }\n",
       "</style>\n",
       "<table border=\"1\" class=\"dataframe\">\n",
       "  <thead>\n",
       "    <tr style=\"text-align: right;\">\n",
       "      <th></th>\n",
       "      <th>title</th>\n",
       "      <th>preview</th>\n",
       "    </tr>\n",
       "  </thead>\n",
       "  <tbody>\n",
       "    <tr>\n",
       "      <th>1281</th>\n",
       "      <td>아몬드</td>\n",
       "      <td></td>\n",
       "    </tr>\n",
       "    <tr>\n",
       "      <th>1282</th>\n",
       "      <td>[세트] 듄 시리즈 (총6권/완결)</td>\n",
       "      <td></td>\n",
       "    </tr>\n",
       "    <tr>\n",
       "      <th>1283</th>\n",
       "      <td>우리가 빛의 속도로 갈 수 없다면</td>\n",
       "      <td></td>\n",
       "    </tr>\n",
       "    <tr>\n",
       "      <th>1284</th>\n",
       "      <td>종의 기원</td>\n",
       "      <td></td>\n",
       "    </tr>\n",
       "    <tr>\n",
       "      <th>1285</th>\n",
       "      <td>소년이 온다</td>\n",
       "      <td></td>\n",
       "    </tr>\n",
       "    <tr>\n",
       "      <th>...</th>\n",
       "      <td>...</td>\n",
       "      <td>...</td>\n",
       "    </tr>\n",
       "    <tr>\n",
       "      <th>7769</th>\n",
       "      <td>완전한 행복</td>\n",
       "      <td></td>\n",
       "    </tr>\n",
       "    <tr>\n",
       "      <th>7770</th>\n",
       "      <td>프로젝트 헤일메리</td>\n",
       "      <td></td>\n",
       "    </tr>\n",
       "    <tr>\n",
       "      <th>7771</th>\n",
       "      <td>1984 (한글판) 019</td>\n",
       "      <td></td>\n",
       "    </tr>\n",
       "    <tr>\n",
       "      <th>7772</th>\n",
       "      <td>구의 증명 [할인]</td>\n",
       "      <td></td>\n",
       "    </tr>\n",
       "    <tr>\n",
       "      <th>7773</th>\n",
       "      <td>대도시의 사랑법</td>\n",
       "      <td></td>\n",
       "    </tr>\n",
       "  </tbody>\n",
       "</table>\n",
       "<p>6268 rows × 2 columns</p>\n",
       "</div>"
      ],
      "text/plain": [
       "                    title preview\n",
       "1281                  아몬드        \n",
       "1282  [세트] 듄 시리즈 (총6권/완결)        \n",
       "1283   우리가 빛의 속도로 갈 수 없다면        \n",
       "1284                종의 기원        \n",
       "1285               소년이 온다        \n",
       "...                   ...     ...\n",
       "7769               완전한 행복        \n",
       "7770            프로젝트 헤일메리        \n",
       "7771       1984 (한글판) 019        \n",
       "7772           구의 증명 [할인]        \n",
       "7773             대도시의 사랑법        \n",
       "\n",
       "[6268 rows x 2 columns]"
      ]
     },
     "execution_count": 5,
     "metadata": {},
     "output_type": "execute_result"
    }
   ],
   "source": [
    "basic_df.loc[basic_df.preview==\"\"]"
   ]
  },
  {
   "cell_type": "markdown",
   "id": "fa646033",
   "metadata": {},
   "source": [
    "info()를 보면 미리보기 데이터가 non-null이라고 나오지만 \"\"(공백)으로 되어 있는 행들이 존재한다.(6268개)"
   ]
  },
  {
   "cell_type": "markdown",
   "id": "8f76ad7c",
   "metadata": {},
   "source": [
    "결측치 제거 함수(dropna)를 사용하기 위해 공백을 np.nan으로 변환 시키겠다"
   ]
  },
  {
   "cell_type": "code",
   "execution_count": 6,
   "id": "809825a0",
   "metadata": {},
   "outputs": [
    {
     "data": {
      "text/html": [
       "<div>\n",
       "<style scoped>\n",
       "    .dataframe tbody tr th:only-of-type {\n",
       "        vertical-align: middle;\n",
       "    }\n",
       "\n",
       "    .dataframe tbody tr th {\n",
       "        vertical-align: top;\n",
       "    }\n",
       "\n",
       "    .dataframe thead th {\n",
       "        text-align: right;\n",
       "    }\n",
       "</style>\n",
       "<table border=\"1\" class=\"dataframe\">\n",
       "  <thead>\n",
       "    <tr style=\"text-align: right;\">\n",
       "      <th></th>\n",
       "      <th>title</th>\n",
       "      <th>preview</th>\n",
       "    </tr>\n",
       "  </thead>\n",
       "  <tbody>\n",
       "    <tr>\n",
       "      <th>0</th>\n",
       "      <td>불편한 편의점</td>\n",
       "      <td>염영숙 여사가 가방 안에 파우치가 없다는 걸 알았을 때 기차는 평택 부근을 지나고 ...</td>\n",
       "    </tr>\n",
       "    <tr>\n",
       "      <th>1</th>\n",
       "      <td>달러구트 꿈 백화점 : 잠들어야만 입장 가능합니다</td>\n",
       "      <td>[목차]\\n\\n작가의 말\\n프롤로그. 3번째 제자의 유서 깊은 가게\\n\\n1. 주문...</td>\n",
       "    </tr>\n",
       "    <tr>\n",
       "      <th>2</th>\n",
       "      <td>미드나잇 라이브러리</td>\n",
       "      <td>지은이 매트 헤이그Matt Haig\\n“강렬한 존재감과 위대한 재능을 가진 소설가”...</td>\n",
       "    </tr>\n",
       "    <tr>\n",
       "      <th>3</th>\n",
       "      <td>기적의 분식집</td>\n",
       "      <td>1◆\\n이계로 통하는 차원 문\\n\\n“흐으윽.”\\n강성호는 기지개를 켜며 일어났다....</td>\n",
       "    </tr>\n",
       "    <tr>\n",
       "      <th>4</th>\n",
       "      <td>유리의 살의</td>\n",
       "      <td>* 이 작품은 픽션입니다.\\n실제 인물, 단체와는 일절 관계가 없습니다.\\n\\n\\n...</td>\n",
       "    </tr>\n",
       "    <tr>\n",
       "      <th>...</th>\n",
       "      <td>...</td>\n",
       "      <td>...</td>\n",
       "    </tr>\n",
       "    <tr>\n",
       "      <th>7769</th>\n",
       "      <td>완전한 행복</td>\n",
       "      <td>NaN</td>\n",
       "    </tr>\n",
       "    <tr>\n",
       "      <th>7770</th>\n",
       "      <td>프로젝트 헤일메리</td>\n",
       "      <td>NaN</td>\n",
       "    </tr>\n",
       "    <tr>\n",
       "      <th>7771</th>\n",
       "      <td>1984 (한글판) 019</td>\n",
       "      <td>NaN</td>\n",
       "    </tr>\n",
       "    <tr>\n",
       "      <th>7772</th>\n",
       "      <td>구의 증명 [할인]</td>\n",
       "      <td>NaN</td>\n",
       "    </tr>\n",
       "    <tr>\n",
       "      <th>7773</th>\n",
       "      <td>대도시의 사랑법</td>\n",
       "      <td>NaN</td>\n",
       "    </tr>\n",
       "  </tbody>\n",
       "</table>\n",
       "<p>7774 rows × 2 columns</p>\n",
       "</div>"
      ],
      "text/plain": [
       "                            title  \\\n",
       "0                         불편한 편의점   \n",
       "1     달러구트 꿈 백화점 : 잠들어야만 입장 가능합니다   \n",
       "2                      미드나잇 라이브러리   \n",
       "3                         기적의 분식집   \n",
       "4                          유리의 살의   \n",
       "...                           ...   \n",
       "7769                       완전한 행복   \n",
       "7770                    프로젝트 헤일메리   \n",
       "7771               1984 (한글판) 019   \n",
       "7772                   구의 증명 [할인]   \n",
       "7773                     대도시의 사랑법   \n",
       "\n",
       "                                                preview  \n",
       "0     염영숙 여사가 가방 안에 파우치가 없다는 걸 알았을 때 기차는 평택 부근을 지나고 ...  \n",
       "1     [목차]\\n\\n작가의 말\\n프롤로그. 3번째 제자의 유서 깊은 가게\\n\\n1. 주문...  \n",
       "2     지은이 매트 헤이그Matt Haig\\n“강렬한 존재감과 위대한 재능을 가진 소설가”...  \n",
       "3     1◆\\n이계로 통하는 차원 문\\n\\n“흐으윽.”\\n강성호는 기지개를 켜며 일어났다....  \n",
       "4     * 이 작품은 픽션입니다.\\n실제 인물, 단체와는 일절 관계가 없습니다.\\n\\n\\n...  \n",
       "...                                                 ...  \n",
       "7769                                                NaN  \n",
       "7770                                                NaN  \n",
       "7771                                                NaN  \n",
       "7772                                                NaN  \n",
       "7773                                                NaN  \n",
       "\n",
       "[7774 rows x 2 columns]"
      ]
     },
     "execution_count": 6,
     "metadata": {},
     "output_type": "execute_result"
    }
   ],
   "source": [
    "basic_df.preview = basic_df.preview.replace(\"\", np.nan)\n",
    "basic_df"
   ]
  },
  {
   "cell_type": "markdown",
   "id": "22b4497a",
   "metadata": {},
   "source": [
    "# 결측치 제거"
   ]
  },
  {
   "cell_type": "code",
   "execution_count": 7,
   "id": "b22fd568",
   "metadata": {},
   "outputs": [
    {
     "data": {
      "text/html": [
       "<div>\n",
       "<style scoped>\n",
       "    .dataframe tbody tr th:only-of-type {\n",
       "        vertical-align: middle;\n",
       "    }\n",
       "\n",
       "    .dataframe tbody tr th {\n",
       "        vertical-align: top;\n",
       "    }\n",
       "\n",
       "    .dataframe thead th {\n",
       "        text-align: right;\n",
       "    }\n",
       "</style>\n",
       "<table border=\"1\" class=\"dataframe\">\n",
       "  <thead>\n",
       "    <tr style=\"text-align: right;\">\n",
       "      <th></th>\n",
       "      <th>title</th>\n",
       "      <th>preview</th>\n",
       "    </tr>\n",
       "  </thead>\n",
       "  <tbody>\n",
       "    <tr>\n",
       "      <th>0</th>\n",
       "      <td>불편한 편의점</td>\n",
       "      <td>염영숙 여사가 가방 안에 파우치가 없다는 걸 알았을 때 기차는 평택 부근을 지나고 ...</td>\n",
       "    </tr>\n",
       "    <tr>\n",
       "      <th>1</th>\n",
       "      <td>달러구트 꿈 백화점 : 잠들어야만 입장 가능합니다</td>\n",
       "      <td>[목차]\\n\\n작가의 말\\n프롤로그. 3번째 제자의 유서 깊은 가게\\n\\n1. 주문...</td>\n",
       "    </tr>\n",
       "    <tr>\n",
       "      <th>2</th>\n",
       "      <td>미드나잇 라이브러리</td>\n",
       "      <td>지은이 매트 헤이그Matt Haig\\n“강렬한 존재감과 위대한 재능을 가진 소설가”...</td>\n",
       "    </tr>\n",
       "    <tr>\n",
       "      <th>3</th>\n",
       "      <td>기적의 분식집</td>\n",
       "      <td>1◆\\n이계로 통하는 차원 문\\n\\n“흐으윽.”\\n강성호는 기지개를 켜며 일어났다....</td>\n",
       "    </tr>\n",
       "    <tr>\n",
       "      <th>4</th>\n",
       "      <td>유리의 살의</td>\n",
       "      <td>* 이 작품은 픽션입니다.\\n실제 인물, 단체와는 일절 관계가 없습니다.\\n\\n\\n...</td>\n",
       "    </tr>\n",
       "    <tr>\n",
       "      <th>...</th>\n",
       "      <td>...</td>\n",
       "      <td>...</td>\n",
       "    </tr>\n",
       "    <tr>\n",
       "      <th>7647</th>\n",
       "      <td>문어의 아홉 번째 다리</td>\n",
       "      <td>디르크 로스만지음| 서경홍옮김\\n\\n\\n\\n\\n\\n\\n\\n\\n\\n\\n\\n\\nDER ...</td>\n",
       "    </tr>\n",
       "    <tr>\n",
       "      <th>7648</th>\n",
       "      <td>백은의 잭</td>\n",
       "      <td>히가시노 게이고\\n일본 최고의 베스트셀러 작가. 1958년 오사카 출생. 오사카 부...</td>\n",
       "    </tr>\n",
       "    <tr>\n",
       "      <th>7652</th>\n",
       "      <td>빅티켓</td>\n",
       "      <td>테릴 리 랭크포드를 위하여\\n\\n우리는 우리의 삶을 우화처럼 기억한다.\\n — 작자...</td>\n",
       "    </tr>\n",
       "    <tr>\n",
       "      <th>7719</th>\n",
       "      <td>나쁜 토끼</td>\n",
       "      <td>와카타케 나나미 若竹七海\\n\\n일본 코지 미스터리의 여왕. 1963년 도쿄에서 태어...</td>\n",
       "    </tr>\n",
       "    <tr>\n",
       "      <th>7727</th>\n",
       "      <td>욕조가 놓인 방</td>\n",
       "      <td>이승우\\n1959년 전남 장흥에서 태어났다. 1981년 《한국문학》 신인상을 받으며...</td>\n",
       "    </tr>\n",
       "  </tbody>\n",
       "</table>\n",
       "<p>1506 rows × 2 columns</p>\n",
       "</div>"
      ],
      "text/plain": [
       "                            title  \\\n",
       "0                         불편한 편의점   \n",
       "1     달러구트 꿈 백화점 : 잠들어야만 입장 가능합니다   \n",
       "2                      미드나잇 라이브러리   \n",
       "3                         기적의 분식집   \n",
       "4                          유리의 살의   \n",
       "...                           ...   \n",
       "7647                 문어의 아홉 번째 다리   \n",
       "7648                        백은의 잭   \n",
       "7652                          빅티켓   \n",
       "7719                        나쁜 토끼   \n",
       "7727                     욕조가 놓인 방   \n",
       "\n",
       "                                                preview  \n",
       "0     염영숙 여사가 가방 안에 파우치가 없다는 걸 알았을 때 기차는 평택 부근을 지나고 ...  \n",
       "1     [목차]\\n\\n작가의 말\\n프롤로그. 3번째 제자의 유서 깊은 가게\\n\\n1. 주문...  \n",
       "2     지은이 매트 헤이그Matt Haig\\n“강렬한 존재감과 위대한 재능을 가진 소설가”...  \n",
       "3     1◆\\n이계로 통하는 차원 문\\n\\n“흐으윽.”\\n강성호는 기지개를 켜며 일어났다....  \n",
       "4     * 이 작품은 픽션입니다.\\n실제 인물, 단체와는 일절 관계가 없습니다.\\n\\n\\n...  \n",
       "...                                                 ...  \n",
       "7647  디르크 로스만지음| 서경홍옮김\\n\\n\\n\\n\\n\\n\\n\\n\\n\\n\\n\\n\\nDER ...  \n",
       "7648  히가시노 게이고\\n일본 최고의 베스트셀러 작가. 1958년 오사카 출생. 오사카 부...  \n",
       "7652  테릴 리 랭크포드를 위하여\\n\\n우리는 우리의 삶을 우화처럼 기억한다.\\n — 작자...  \n",
       "7719  와카타케 나나미 若竹七海\\n\\n일본 코지 미스터리의 여왕. 1963년 도쿄에서 태어...  \n",
       "7727  이승우\\n1959년 전남 장흥에서 태어났다. 1981년 《한국문학》 신인상을 받으며...  \n",
       "\n",
       "[1506 rows x 2 columns]"
      ]
     },
     "execution_count": 7,
     "metadata": {},
     "output_type": "execute_result"
    }
   ],
   "source": [
    "df_erase = basic_df.dropna()\n",
    "df_erase"
   ]
  },
  {
   "cell_type": "markdown",
   "id": "71d53bc3",
   "metadata": {},
   "source": [
    "결측치를 제거하고 나니 1506개만 남음 (처음 7774개 - 결측치 6268개)"
   ]
  },
  {
   "cell_type": "code",
   "execution_count": 9,
   "id": "cf64463a",
   "metadata": {},
   "outputs": [
    {
     "data": {
      "text/plain": [
       "1506"
      ]
     },
     "execution_count": 9,
     "metadata": {},
     "output_type": "execute_result"
    }
   ],
   "source": [
    "7774 - 6268"
   ]
  },
  {
   "cell_type": "markdown",
   "id": "3d192bbc",
   "metadata": {},
   "source": [
    "# 미리보기 column : 한글만 포함, 여러 공백 제거"
   ]
  },
  {
   "cell_type": "code",
   "execution_count": 10,
   "id": "fe64f54b",
   "metadata": {},
   "outputs": [
    {
     "name": "stderr",
     "output_type": "stream",
     "text": [
      "C:\\Users\\kissd\\anaconda3\\lib\\site-packages\\pandas\\core\\generic.py:5516: SettingWithCopyWarning: \n",
      "A value is trying to be set on a copy of a slice from a DataFrame.\n",
      "Try using .loc[row_indexer,col_indexer] = value instead\n",
      "\n",
      "See the caveats in the documentation: https://pandas.pydata.org/pandas-docs/stable/user_guide/indexing.html#returning-a-view-versus-a-copy\n",
      "  self[name] = value\n"
     ]
    },
    {
     "data": {
      "text/html": [
       "<div>\n",
       "<style scoped>\n",
       "    .dataframe tbody tr th:only-of-type {\n",
       "        vertical-align: middle;\n",
       "    }\n",
       "\n",
       "    .dataframe tbody tr th {\n",
       "        vertical-align: top;\n",
       "    }\n",
       "\n",
       "    .dataframe thead th {\n",
       "        text-align: right;\n",
       "    }\n",
       "</style>\n",
       "<table border=\"1\" class=\"dataframe\">\n",
       "  <thead>\n",
       "    <tr style=\"text-align: right;\">\n",
       "      <th></th>\n",
       "      <th>title</th>\n",
       "      <th>preview</th>\n",
       "    </tr>\n",
       "  </thead>\n",
       "  <tbody>\n",
       "    <tr>\n",
       "      <th>0</th>\n",
       "      <td>불편한 편의점</td>\n",
       "      <td>염영숙 여사가 가방 안에 파우치가 없다는 걸 알았을 때 기차는 평택 부근을 지나고 ...</td>\n",
       "    </tr>\n",
       "    <tr>\n",
       "      <th>1</th>\n",
       "      <td>달러구트 꿈 백화점 : 잠들어야만 입장 가능합니다</td>\n",
       "      <td>목차 작가의 말 프롤로그 번째 제자의 유서 깊은 가게 주문하신 꿈은 매진입니다 한밤...</td>\n",
       "    </tr>\n",
       "    <tr>\n",
       "      <th>2</th>\n",
       "      <td>미드나잇 라이브러리</td>\n",
       "      <td>지은이 매트 헤이그 강렬한 존재감과 위대한 재능을 가진 소설가 로 평가받는 영국의 ...</td>\n",
       "    </tr>\n",
       "    <tr>\n",
       "      <th>3</th>\n",
       "      <td>기적의 분식집</td>\n",
       "      <td>이계로 통하는 차원 문 흐으윽 강성호는 기지개를 켜며 일어났다 오늘도 지겨운 하루가...</td>\n",
       "    </tr>\n",
       "    <tr>\n",
       "      <th>4</th>\n",
       "      <td>유리의 살의</td>\n",
       "      <td>이 작품은 픽션입니다 실제 인물 단체와는 일절 관계가 없습니다 이 책은 주 한국저작...</td>\n",
       "    </tr>\n",
       "    <tr>\n",
       "      <th>...</th>\n",
       "      <td>...</td>\n",
       "      <td>...</td>\n",
       "    </tr>\n",
       "    <tr>\n",
       "      <th>7647</th>\n",
       "      <td>문어의 아홉 번째 다리</td>\n",
       "      <td>디르크 로스만지음 서경홍옮김 이 책의 한국어판 저작권은 모모 에이전시를 통해 사와의...</td>\n",
       "    </tr>\n",
       "    <tr>\n",
       "      <th>7648</th>\n",
       "      <td>백은의 잭</td>\n",
       "      <td>히가시노 게이고 일본 최고의 베스트셀러 작가 년 오사카 출생 오사카 부립대학 졸업 ...</td>\n",
       "    </tr>\n",
       "    <tr>\n",
       "      <th>7652</th>\n",
       "      <td>빅티켓</td>\n",
       "      <td>테릴 리 랭크포드를 위하여 우리는 우리의 삶을 우화처럼 기억한다 작자 불명 본 도서...</td>\n",
       "    </tr>\n",
       "    <tr>\n",
       "      <th>7719</th>\n",
       "      <td>나쁜 토끼</td>\n",
       "      <td>와카타케 나나미 일본 코지 미스터리의 여왕 년 도쿄에서 태어나 릿쿄 대학 문학부를 ...</td>\n",
       "    </tr>\n",
       "    <tr>\n",
       "      <th>7727</th>\n",
       "      <td>욕조가 놓인 방</td>\n",
       "      <td>이승우 년 전남 장흥에서 태어났다 년 한국문학 신인상을 받으며 작품 활동을 시작했다...</td>\n",
       "    </tr>\n",
       "  </tbody>\n",
       "</table>\n",
       "<p>1506 rows × 2 columns</p>\n",
       "</div>"
      ],
      "text/plain": [
       "                            title  \\\n",
       "0                         불편한 편의점   \n",
       "1     달러구트 꿈 백화점 : 잠들어야만 입장 가능합니다   \n",
       "2                      미드나잇 라이브러리   \n",
       "3                         기적의 분식집   \n",
       "4                          유리의 살의   \n",
       "...                           ...   \n",
       "7647                 문어의 아홉 번째 다리   \n",
       "7648                        백은의 잭   \n",
       "7652                          빅티켓   \n",
       "7719                        나쁜 토끼   \n",
       "7727                     욕조가 놓인 방   \n",
       "\n",
       "                                                preview  \n",
       "0     염영숙 여사가 가방 안에 파우치가 없다는 걸 알았을 때 기차는 평택 부근을 지나고 ...  \n",
       "1     목차 작가의 말 프롤로그 번째 제자의 유서 깊은 가게 주문하신 꿈은 매진입니다 한밤...  \n",
       "2     지은이 매트 헤이그 강렬한 존재감과 위대한 재능을 가진 소설가 로 평가받는 영국의 ...  \n",
       "3     이계로 통하는 차원 문 흐으윽 강성호는 기지개를 켜며 일어났다 오늘도 지겨운 하루가...  \n",
       "4     이 작품은 픽션입니다 실제 인물 단체와는 일절 관계가 없습니다 이 책은 주 한국저작...  \n",
       "...                                                 ...  \n",
       "7647  디르크 로스만지음 서경홍옮김 이 책의 한국어판 저작권은 모모 에이전시를 통해 사와의...  \n",
       "7648  히가시노 게이고 일본 최고의 베스트셀러 작가 년 오사카 출생 오사카 부립대학 졸업 ...  \n",
       "7652  테릴 리 랭크포드를 위하여 우리는 우리의 삶을 우화처럼 기억한다 작자 불명 본 도서...  \n",
       "7719  와카타케 나나미 일본 코지 미스터리의 여왕 년 도쿄에서 태어나 릿쿄 대학 문학부를 ...  \n",
       "7727  이승우 년 전남 장흥에서 태어났다 년 한국문학 신인상을 받으며 작품 활동을 시작했다...  \n",
       "\n",
       "[1506 rows x 2 columns]"
      ]
     },
     "execution_count": 10,
     "metadata": {},
     "output_type": "execute_result"
    }
   ],
   "source": [
    "df_erase.preview = df_erase.preview.str.replace(r\"[^가-힣 \\s]\", \" \", regex=True)\n",
    "df_erase.preview = df_erase.preview.str.replace(r\"\\s+\", \" \", regex=True)\n",
    "df_erase.preview = df_erase.preview.str.strip()\n",
    "df_erase"
   ]
  },
  {
   "cell_type": "markdown",
   "id": "7c79a17c",
   "metadata": {},
   "source": [
    "# 제목 column"
   ]
  },
  {
   "cell_type": "code",
   "execution_count": 11,
   "id": "a8232f86",
   "metadata": {},
   "outputs": [
    {
     "name": "stderr",
     "output_type": "stream",
     "text": [
      "C:\\Users\\kissd\\anaconda3\\lib\\site-packages\\pandas\\core\\generic.py:5516: SettingWithCopyWarning: \n",
      "A value is trying to be set on a copy of a slice from a DataFrame.\n",
      "Try using .loc[row_indexer,col_indexer] = value instead\n",
      "\n",
      "See the caveats in the documentation: https://pandas.pydata.org/pandas-docs/stable/user_guide/indexing.html#returning-a-view-versus-a-copy\n",
      "  self[name] = value\n"
     ]
    },
    {
     "data": {
      "text/html": [
       "<div>\n",
       "<style scoped>\n",
       "    .dataframe tbody tr th:only-of-type {\n",
       "        vertical-align: middle;\n",
       "    }\n",
       "\n",
       "    .dataframe tbody tr th {\n",
       "        vertical-align: top;\n",
       "    }\n",
       "\n",
       "    .dataframe thead th {\n",
       "        text-align: right;\n",
       "    }\n",
       "</style>\n",
       "<table border=\"1\" class=\"dataframe\">\n",
       "  <thead>\n",
       "    <tr style=\"text-align: right;\">\n",
       "      <th></th>\n",
       "      <th>title</th>\n",
       "      <th>preview</th>\n",
       "    </tr>\n",
       "  </thead>\n",
       "  <tbody>\n",
       "    <tr>\n",
       "      <th>0</th>\n",
       "      <td>불편한 편의점</td>\n",
       "      <td>염영숙 여사가 가방 안에 파우치가 없다는 걸 알았을 때 기차는 평택 부근을 지나고 ...</td>\n",
       "    </tr>\n",
       "    <tr>\n",
       "      <th>1</th>\n",
       "      <td>달러구트 꿈 백화점 : 잠들어야만 입장 가능합니다</td>\n",
       "      <td>목차 작가의 말 프롤로그 번째 제자의 유서 깊은 가게 주문하신 꿈은 매진입니다 한밤...</td>\n",
       "    </tr>\n",
       "    <tr>\n",
       "      <th>2</th>\n",
       "      <td>미드나잇 라이브러리</td>\n",
       "      <td>지은이 매트 헤이그 강렬한 존재감과 위대한 재능을 가진 소설가 로 평가받는 영국의 ...</td>\n",
       "    </tr>\n",
       "    <tr>\n",
       "      <th>3</th>\n",
       "      <td>기적의 분식집</td>\n",
       "      <td>이계로 통하는 차원 문 흐으윽 강성호는 기지개를 켜며 일어났다 오늘도 지겨운 하루가...</td>\n",
       "    </tr>\n",
       "    <tr>\n",
       "      <th>4</th>\n",
       "      <td>유리의 살의</td>\n",
       "      <td>이 작품은 픽션입니다 실제 인물 단체와는 일절 관계가 없습니다 이 책은 주 한국저작...</td>\n",
       "    </tr>\n",
       "    <tr>\n",
       "      <th>...</th>\n",
       "      <td>...</td>\n",
       "      <td>...</td>\n",
       "    </tr>\n",
       "    <tr>\n",
       "      <th>1422</th>\n",
       "      <td>문어의 아홉 번째 다리</td>\n",
       "      <td>디르크 로스만지음 서경홍옮김 이 책의 한국어판 저작권은 모모 에이전시를 통해 사와의...</td>\n",
       "    </tr>\n",
       "    <tr>\n",
       "      <th>1423</th>\n",
       "      <td>백은의 잭</td>\n",
       "      <td>히가시노 게이고 일본 최고의 베스트셀러 작가 년 오사카 출생 오사카 부립대학 졸업 ...</td>\n",
       "    </tr>\n",
       "    <tr>\n",
       "      <th>1424</th>\n",
       "      <td>빅티켓</td>\n",
       "      <td>테릴 리 랭크포드를 위하여 우리는 우리의 삶을 우화처럼 기억한다 작자 불명 본 도서...</td>\n",
       "    </tr>\n",
       "    <tr>\n",
       "      <th>1425</th>\n",
       "      <td>나쁜 토끼</td>\n",
       "      <td>와카타케 나나미 일본 코지 미스터리의 여왕 년 도쿄에서 태어나 릿쿄 대학 문학부를 ...</td>\n",
       "    </tr>\n",
       "    <tr>\n",
       "      <th>1426</th>\n",
       "      <td>욕조가 놓인 방</td>\n",
       "      <td>이승우 년 전남 장흥에서 태어났다 년 한국문학 신인상을 받으며 작품 활동을 시작했다...</td>\n",
       "    </tr>\n",
       "  </tbody>\n",
       "</table>\n",
       "<p>1427 rows × 2 columns</p>\n",
       "</div>"
      ],
      "text/plain": [
       "                            title  \\\n",
       "0                         불편한 편의점   \n",
       "1     달러구트 꿈 백화점 : 잠들어야만 입장 가능합니다   \n",
       "2                      미드나잇 라이브러리   \n",
       "3                         기적의 분식집   \n",
       "4                          유리의 살의   \n",
       "...                           ...   \n",
       "1422                 문어의 아홉 번째 다리   \n",
       "1423                        백은의 잭   \n",
       "1424                          빅티켓   \n",
       "1425                        나쁜 토끼   \n",
       "1426                     욕조가 놓인 방   \n",
       "\n",
       "                                                preview  \n",
       "0     염영숙 여사가 가방 안에 파우치가 없다는 걸 알았을 때 기차는 평택 부근을 지나고 ...  \n",
       "1     목차 작가의 말 프롤로그 번째 제자의 유서 깊은 가게 주문하신 꿈은 매진입니다 한밤...  \n",
       "2     지은이 매트 헤이그 강렬한 존재감과 위대한 재능을 가진 소설가 로 평가받는 영국의 ...  \n",
       "3     이계로 통하는 차원 문 흐으윽 강성호는 기지개를 켜며 일어났다 오늘도 지겨운 하루가...  \n",
       "4     이 작품은 픽션입니다 실제 인물 단체와는 일절 관계가 없습니다 이 책은 주 한국저작...  \n",
       "...                                                 ...  \n",
       "1422  디르크 로스만지음 서경홍옮김 이 책의 한국어판 저작권은 모모 에이전시를 통해 사와의...  \n",
       "1423  히가시노 게이고 일본 최고의 베스트셀러 작가 년 오사카 출생 오사카 부립대학 졸업 ...  \n",
       "1424  테릴 리 랭크포드를 위하여 우리는 우리의 삶을 우화처럼 기억한다 작자 불명 본 도서...  \n",
       "1425  와카타케 나나미 일본 코지 미스터리의 여왕 년 도쿄에서 태어나 릿쿄 대학 문학부를 ...  \n",
       "1426  이승우 년 전남 장흥에서 태어났다 년 한국문학 신인상을 받으며 작품 활동을 시작했다...  \n",
       "\n",
       "[1427 rows x 2 columns]"
      ]
     },
     "execution_count": 11,
     "metadata": {},
     "output_type": "execute_result"
    }
   ],
   "source": [
    "df_erase.title = df_erase.title.str.replace(r\"\\[.+\\]\", \"\", regex=True)\n",
    "df_erase.title = df_erase.title.str.replace(r\"\\s+\", \" \", regex=True)\n",
    "df_erase.title = df_erase.title.str.strip()\n",
    "df_unique = df_erase.drop_duplicates(['title', \"preview\"])\n",
    "df_unique = df_unique.reset_index(drop=True)\n",
    "df_unique"
   ]
  },
  {
   "cell_type": "code",
   "execution_count": 12,
   "id": "02cd575b",
   "metadata": {},
   "outputs": [],
   "source": [
    "df = df_unique"
   ]
  },
  {
   "cell_type": "code",
   "execution_count": null,
   "id": "798c93de",
   "metadata": {},
   "outputs": [],
   "source": [
    "요리코를 위해"
   ]
  },
  {
   "cell_type": "code",
   "execution_count": 65,
   "id": "4fc7210a",
   "metadata": {
    "scrolled": true
   },
   "outputs": [
    {
     "data": {
      "text/html": [
       "<div>\n",
       "<style scoped>\n",
       "    .dataframe tbody tr th:only-of-type {\n",
       "        vertical-align: middle;\n",
       "    }\n",
       "\n",
       "    .dataframe tbody tr th {\n",
       "        vertical-align: top;\n",
       "    }\n",
       "\n",
       "    .dataframe thead th {\n",
       "        text-align: right;\n",
       "    }\n",
       "</style>\n",
       "<table border=\"1\" class=\"dataframe\">\n",
       "  <thead>\n",
       "    <tr style=\"text-align: right;\">\n",
       "      <th></th>\n",
       "      <th>title</th>\n",
       "      <th>preview</th>\n",
       "    </tr>\n",
       "  </thead>\n",
       "  <tbody>\n",
       "    <tr>\n",
       "      <th>47</th>\n",
       "      <td>살인자의 기억법</td>\n",
       "      <td>차례 살인자의 기억법 작품론 류보선 문학평론가 수치심과 죄책감 사이 혹은 우리 시대...</td>\n",
       "    </tr>\n",
       "  </tbody>\n",
       "</table>\n",
       "</div>"
      ],
      "text/plain": [
       "       title                                            preview\n",
       "47  살인자의 기억법  차례 살인자의 기억법 작품론 류보선 문학평론가 수치심과 죄책감 사이 혹은 우리 시대..."
      ]
     },
     "execution_count": 65,
     "metadata": {},
     "output_type": "execute_result"
    }
   ],
   "source": [
    "df.loc[df.title=='살인자의 기억법']"
   ]
  },
  {
   "cell_type": "code",
   "execution_count": 66,
   "id": "f0d6f75f",
   "metadata": {},
   "outputs": [
    {
     "data": {
      "text/plain": [
       "'차례 살인자의 기억법 작품론 류보선 문학평론가 수치심과 죄책감 사이 혹은 우리 시대의 윤리 초판 작가의 말 이 소설은 내 소설이다 내가 마지막으로 사람을 죽인 것은 벌써 이십오 년 전 아니 이십육 년 전인가 하여튼 그쯤의 일이다 그때까지 나를 추동한 힘은 사람들이 흔히 생각하는 살인의 충동 변태성욕 따위가 아니었다 아쉬움이었다 더 완벽한 쾌감이 가능하리라는 희망 희생자를 묻을 때마다 나는 되뇌곤 했다 다음엔 더 잘할 수 있을 거야 내가 살인을 멈춘 것은 바로 그 희망이 사라졌기 때문이다 일지를 썼다 냉철한 복기 뭐 그런 게 필요했던 것 같다 뭘 잘못했는지 그래서 어떤 기분이었는지를 적어놓아야 뼈아픈 실수를 반복하지 않으리라고 생각했다 수험생들은 오답노트를 만든다 나 역시 꼼꼼하게 내 살인의 모든 과정과 느낌을 기록했다 쓸데없는 짓이었다 문장을 만들기가 너무 힘들었다 명문을 쓰겠다는 것도 아니고 단지 일지일 뿐인데 그게 이렇게 어렵다니 내가 느낀 희열과 안타까움을 온전히 표현할 수 없다는 것 더러운 기분이었다 내가 읽은 소설은 국어교과서에 실린 것이 거의 전부 거기엔 내게 필요한 문장이 없었다 그래서 시를 읽기 시작했다 실수였다 시를 가르치는 문화센터의 강사는 내 또래의 남자 시인이었다 그는 첫 수업시간에 엄숙한 표정으로 이런 말을 해서 나를 웃겼다 시인은 숙련된 킬러처럼 언어를 포착하고 그것을 끝내 살해하는 존재입니다 그때는 이미 수십 명의 사냥감을 포착하고 그것을 끝내 살해 해 땅에 묻은 뒤였다 그러나 내가 한 일이 시라고는 생각하지 않았다 살인은 시라기보다 산문에 가깝다 해보면 누구나 알 수 있다 살인은 생각보다 번다하고 구질구질한 작업이다 어쨌거나 그 강사 덕분에 시에 흥미가 생긴 것은 사실이다 나는 슬픔은 느낄 수 없도록 생겨먹었지만 유머에는 반응한다 금강경을 읽는다 마땅히 머무는 바 없이 그 마음을 일으킬지니라'"
      ]
     },
     "execution_count": 66,
     "metadata": {},
     "output_type": "execute_result"
    }
   ],
   "source": [
    "df.preview[47]"
   ]
  },
  {
   "cell_type": "code",
   "execution_count": 73,
   "id": "c6f073ea",
   "metadata": {
    "scrolled": false
   },
   "outputs": [
    {
     "name": "stdout",
     "output_type": "stream",
     "text": [
      "요리코를 위해 : 미리보기 50자\n",
      "그녀는 증인의 얼굴을 하고 있었다 : 미리보기 57자\n",
      "안드로이드는 전기양의 꿈을 꾸는가? - 필립 K. 딕 걸작선 12 : 미리보기 268자\n",
      "롤리타 : 미리보기 4자\n",
      "안티고네 - 범우문고 267 : 미리보기 167자\n",
      "눈으로 만든 사람 : 미리보기 274자\n",
      "2020 제11회 젊은작가상 수상작품집 (개정판) : 미리보기 321자\n",
      "나관중 삼국지 1 : 미리보기 271자\n",
      "죽여 마땅한 사람들 : 미리보기 122자\n",
      "그믐, 또는 당신이 세계를 기억하는 방식 : 미리보기 8자\n",
      "나관중 삼국지 2 : 미리보기 270자\n",
      "나관중 삼국지 3 초망 : 미리보기 271자\n",
      "일곱 해의 마지막 : 미리보기 277자\n",
      "구토 : 미리보기 357자\n",
      "여자를 증오한 남자들 - 밀레니엄 1권 : 미리보기 4자\n",
      "파도가 바다의 일이라면 : 미리보기 98자\n",
      "사랑의 역사 : 미리보기 235자\n",
      "필경사 바틀비 - 올림푸스 세계문학 13 : 미리보기 34자\n",
      "그레이스 : 미리보기 222자\n",
      "컬러 퍼플 - 세계문학전집 187 : 미리보기 6자\n",
      "백설춘향전 : 미리보기 369자\n",
      "거미줄에 걸린 소녀 - 밀레니엄 4권 : 미리보기 4자\n",
      "312호에서는 303호 여자가 보인다 : 미리보기 256자\n",
      "받은 만큼 복수하는 소녀 - 밀레니엄 5권 : 미리보기 4자\n",
      "마이너리티 리포트 : 미리보기 331자\n",
      "디즈니의 악당들 5 : 가짜엄마 : 미리보기 211자\n",
      "긴 이별을 위한 짧은 편지 : 미리보기 186자\n",
      "아홉 명의 완벽한 타인들 : 미리보기 149자\n",
      "한중록 - 한국고전문학전집 003 : 미리보기 380자\n",
      "치킨 요정 : 미리보기 297자\n",
      "두번째 인생 : 미리보기 267자\n",
      "BEFORE(비포) : 미리보기 191자\n",
      "기억 파단자 : 미리보기 375자\n",
      "아처 The Archer : 미리보기 184자\n",
      "원고료 이백원 : 미리보기 11자\n",
      "화장한 내 얼굴 : 미리보기 328자\n",
      "작별인사 : 미리보기 319자\n",
      "걸 온 더 트레인 THE GIRL ON THE TRAIN : 미리보기 202자\n",
      "페러그린과 이상한 아이들의 집 : 미리보기 163자\n",
      "할로우 시티 : 미리보기 159자\n",
      "영혼의 도서관 : 미리보기 151자\n",
      "물 만난 물고기 : 미리보기 313자\n",
      "아메리칸 더트 : 미리보기 99자\n",
      "우연 제작자들 : 미리보기 142자\n"
     ]
    }
   ],
   "source": [
    "for i in range(len(df.preview)):\n",
    "    if len(df.preview[i]) < 400:\n",
    "        print(df.title[i], ': 미리보기 {}자'.format(len(df.preview[i])))"
   ]
  },
  {
   "cell_type": "code",
   "execution_count": 97,
   "id": "1dae8629",
   "metadata": {},
   "outputs": [],
   "source": [
    "for i in range(len(df.preview)):\n",
    "    if len(df.preview[i]) < 400:\n",
    "        df.drop(index=i, axis=0, inplace=True)"
   ]
  },
  {
   "cell_type": "code",
   "execution_count": 98,
   "id": "9201ff61",
   "metadata": {},
   "outputs": [
    {
     "data": {
      "text/html": [
       "<div>\n",
       "<style scoped>\n",
       "    .dataframe tbody tr th:only-of-type {\n",
       "        vertical-align: middle;\n",
       "    }\n",
       "\n",
       "    .dataframe tbody tr th {\n",
       "        vertical-align: top;\n",
       "    }\n",
       "\n",
       "    .dataframe thead th {\n",
       "        text-align: right;\n",
       "    }\n",
       "</style>\n",
       "<table border=\"1\" class=\"dataframe\">\n",
       "  <thead>\n",
       "    <tr style=\"text-align: right;\">\n",
       "      <th></th>\n",
       "      <th>title</th>\n",
       "      <th>preview</th>\n",
       "    </tr>\n",
       "  </thead>\n",
       "  <tbody>\n",
       "    <tr>\n",
       "      <th>0</th>\n",
       "      <td>불편한 편의점</td>\n",
       "      <td>염영숙 여사가 가방 안에 파우치가 없다는 걸 알았을 때 기차는 평택 부근을 지나고 ...</td>\n",
       "    </tr>\n",
       "    <tr>\n",
       "      <th>1</th>\n",
       "      <td>달러구트 꿈 백화점 : 잠들어야만 입장 가능합니다</td>\n",
       "      <td>목차 작가의 말 프롤로그 번째 제자의 유서 깊은 가게 주문하신 꿈은 매진입니다 한밤...</td>\n",
       "    </tr>\n",
       "    <tr>\n",
       "      <th>2</th>\n",
       "      <td>미드나잇 라이브러리</td>\n",
       "      <td>지은이 매트 헤이그 강렬한 존재감과 위대한 재능을 가진 소설가 로 평가받는 영국의 ...</td>\n",
       "    </tr>\n",
       "    <tr>\n",
       "      <th>3</th>\n",
       "      <td>기적의 분식집</td>\n",
       "      <td>이계로 통하는 차원 문 흐으윽 강성호는 기지개를 켜며 일어났다 오늘도 지겨운 하루가...</td>\n",
       "    </tr>\n",
       "    <tr>\n",
       "      <th>4</th>\n",
       "      <td>유리의 살의</td>\n",
       "      <td>이 작품은 픽션입니다 실제 인물 단체와는 일절 관계가 없습니다 이 책은 주 한국저작...</td>\n",
       "    </tr>\n",
       "    <tr>\n",
       "      <th>...</th>\n",
       "      <td>...</td>\n",
       "      <td>...</td>\n",
       "    </tr>\n",
       "    <tr>\n",
       "      <th>1422</th>\n",
       "      <td>문어의 아홉 번째 다리</td>\n",
       "      <td>디르크 로스만지음 서경홍옮김 이 책의 한국어판 저작권은 모모 에이전시를 통해 사와의...</td>\n",
       "    </tr>\n",
       "    <tr>\n",
       "      <th>1423</th>\n",
       "      <td>백은의 잭</td>\n",
       "      <td>히가시노 게이고 일본 최고의 베스트셀러 작가 년 오사카 출생 오사카 부립대학 졸업 ...</td>\n",
       "    </tr>\n",
       "    <tr>\n",
       "      <th>1424</th>\n",
       "      <td>빅티켓</td>\n",
       "      <td>테릴 리 랭크포드를 위하여 우리는 우리의 삶을 우화처럼 기억한다 작자 불명 본 도서...</td>\n",
       "    </tr>\n",
       "    <tr>\n",
       "      <th>1425</th>\n",
       "      <td>나쁜 토끼</td>\n",
       "      <td>와카타케 나나미 일본 코지 미스터리의 여왕 년 도쿄에서 태어나 릿쿄 대학 문학부를 ...</td>\n",
       "    </tr>\n",
       "    <tr>\n",
       "      <th>1426</th>\n",
       "      <td>욕조가 놓인 방</td>\n",
       "      <td>이승우 년 전남 장흥에서 태어났다 년 한국문학 신인상을 받으며 작품 활동을 시작했다...</td>\n",
       "    </tr>\n",
       "  </tbody>\n",
       "</table>\n",
       "<p>1383 rows × 2 columns</p>\n",
       "</div>"
      ],
      "text/plain": [
       "                            title  \\\n",
       "0                         불편한 편의점   \n",
       "1     달러구트 꿈 백화점 : 잠들어야만 입장 가능합니다   \n",
       "2                      미드나잇 라이브러리   \n",
       "3                         기적의 분식집   \n",
       "4                          유리의 살의   \n",
       "...                           ...   \n",
       "1422                 문어의 아홉 번째 다리   \n",
       "1423                        백은의 잭   \n",
       "1424                          빅티켓   \n",
       "1425                        나쁜 토끼   \n",
       "1426                     욕조가 놓인 방   \n",
       "\n",
       "                                                preview  \n",
       "0     염영숙 여사가 가방 안에 파우치가 없다는 걸 알았을 때 기차는 평택 부근을 지나고 ...  \n",
       "1     목차 작가의 말 프롤로그 번째 제자의 유서 깊은 가게 주문하신 꿈은 매진입니다 한밤...  \n",
       "2     지은이 매트 헤이그 강렬한 존재감과 위대한 재능을 가진 소설가 로 평가받는 영국의 ...  \n",
       "3     이계로 통하는 차원 문 흐으윽 강성호는 기지개를 켜며 일어났다 오늘도 지겨운 하루가...  \n",
       "4     이 작품은 픽션입니다 실제 인물 단체와는 일절 관계가 없습니다 이 책은 주 한국저작...  \n",
       "...                                                 ...  \n",
       "1422  디르크 로스만지음 서경홍옮김 이 책의 한국어판 저작권은 모모 에이전시를 통해 사와의...  \n",
       "1423  히가시노 게이고 일본 최고의 베스트셀러 작가 년 오사카 출생 오사카 부립대학 졸업 ...  \n",
       "1424  테릴 리 랭크포드를 위하여 우리는 우리의 삶을 우화처럼 기억한다 작자 불명 본 도서...  \n",
       "1425  와카타케 나나미 일본 코지 미스터리의 여왕 년 도쿄에서 태어나 릿쿄 대학 문학부를 ...  \n",
       "1426  이승우 년 전남 장흥에서 태어났다 년 한국문학 신인상을 받으며 작품 활동을 시작했다...  \n",
       "\n",
       "[1383 rows x 2 columns]"
      ]
     },
     "execution_count": 98,
     "metadata": {},
     "output_type": "execute_result"
    }
   ],
   "source": [
    "df"
   ]
  },
  {
   "cell_type": "code",
   "execution_count": 99,
   "id": "5f63da1d",
   "metadata": {},
   "outputs": [],
   "source": [
    "df = df.reset_index(drop=True)"
   ]
  },
  {
   "cell_type": "code",
   "execution_count": 100,
   "id": "f570aa56",
   "metadata": {},
   "outputs": [
    {
     "data": {
      "text/html": [
       "<div>\n",
       "<style scoped>\n",
       "    .dataframe tbody tr th:only-of-type {\n",
       "        vertical-align: middle;\n",
       "    }\n",
       "\n",
       "    .dataframe tbody tr th {\n",
       "        vertical-align: top;\n",
       "    }\n",
       "\n",
       "    .dataframe thead th {\n",
       "        text-align: right;\n",
       "    }\n",
       "</style>\n",
       "<table border=\"1\" class=\"dataframe\">\n",
       "  <thead>\n",
       "    <tr style=\"text-align: right;\">\n",
       "      <th></th>\n",
       "      <th>title</th>\n",
       "      <th>preview</th>\n",
       "    </tr>\n",
       "  </thead>\n",
       "  <tbody>\n",
       "    <tr>\n",
       "      <th>0</th>\n",
       "      <td>불편한 편의점</td>\n",
       "      <td>염영숙 여사가 가방 안에 파우치가 없다는 걸 알았을 때 기차는 평택 부근을 지나고 ...</td>\n",
       "    </tr>\n",
       "    <tr>\n",
       "      <th>1</th>\n",
       "      <td>달러구트 꿈 백화점 : 잠들어야만 입장 가능합니다</td>\n",
       "      <td>목차 작가의 말 프롤로그 번째 제자의 유서 깊은 가게 주문하신 꿈은 매진입니다 한밤...</td>\n",
       "    </tr>\n",
       "    <tr>\n",
       "      <th>2</th>\n",
       "      <td>미드나잇 라이브러리</td>\n",
       "      <td>지은이 매트 헤이그 강렬한 존재감과 위대한 재능을 가진 소설가 로 평가받는 영국의 ...</td>\n",
       "    </tr>\n",
       "    <tr>\n",
       "      <th>3</th>\n",
       "      <td>기적의 분식집</td>\n",
       "      <td>이계로 통하는 차원 문 흐으윽 강성호는 기지개를 켜며 일어났다 오늘도 지겨운 하루가...</td>\n",
       "    </tr>\n",
       "    <tr>\n",
       "      <th>4</th>\n",
       "      <td>유리의 살의</td>\n",
       "      <td>이 작품은 픽션입니다 실제 인물 단체와는 일절 관계가 없습니다 이 책은 주 한국저작...</td>\n",
       "    </tr>\n",
       "    <tr>\n",
       "      <th>...</th>\n",
       "      <td>...</td>\n",
       "      <td>...</td>\n",
       "    </tr>\n",
       "    <tr>\n",
       "      <th>1378</th>\n",
       "      <td>문어의 아홉 번째 다리</td>\n",
       "      <td>디르크 로스만지음 서경홍옮김 이 책의 한국어판 저작권은 모모 에이전시를 통해 사와의...</td>\n",
       "    </tr>\n",
       "    <tr>\n",
       "      <th>1379</th>\n",
       "      <td>백은의 잭</td>\n",
       "      <td>히가시노 게이고 일본 최고의 베스트셀러 작가 년 오사카 출생 오사카 부립대학 졸업 ...</td>\n",
       "    </tr>\n",
       "    <tr>\n",
       "      <th>1380</th>\n",
       "      <td>빅티켓</td>\n",
       "      <td>테릴 리 랭크포드를 위하여 우리는 우리의 삶을 우화처럼 기억한다 작자 불명 본 도서...</td>\n",
       "    </tr>\n",
       "    <tr>\n",
       "      <th>1381</th>\n",
       "      <td>나쁜 토끼</td>\n",
       "      <td>와카타케 나나미 일본 코지 미스터리의 여왕 년 도쿄에서 태어나 릿쿄 대학 문학부를 ...</td>\n",
       "    </tr>\n",
       "    <tr>\n",
       "      <th>1382</th>\n",
       "      <td>욕조가 놓인 방</td>\n",
       "      <td>이승우 년 전남 장흥에서 태어났다 년 한국문학 신인상을 받으며 작품 활동을 시작했다...</td>\n",
       "    </tr>\n",
       "  </tbody>\n",
       "</table>\n",
       "<p>1383 rows × 2 columns</p>\n",
       "</div>"
      ],
      "text/plain": [
       "                            title  \\\n",
       "0                         불편한 편의점   \n",
       "1     달러구트 꿈 백화점 : 잠들어야만 입장 가능합니다   \n",
       "2                      미드나잇 라이브러리   \n",
       "3                         기적의 분식집   \n",
       "4                          유리의 살의   \n",
       "...                           ...   \n",
       "1378                 문어의 아홉 번째 다리   \n",
       "1379                        백은의 잭   \n",
       "1380                          빅티켓   \n",
       "1381                        나쁜 토끼   \n",
       "1382                     욕조가 놓인 방   \n",
       "\n",
       "                                                preview  \n",
       "0     염영숙 여사가 가방 안에 파우치가 없다는 걸 알았을 때 기차는 평택 부근을 지나고 ...  \n",
       "1     목차 작가의 말 프롤로그 번째 제자의 유서 깊은 가게 주문하신 꿈은 매진입니다 한밤...  \n",
       "2     지은이 매트 헤이그 강렬한 존재감과 위대한 재능을 가진 소설가 로 평가받는 영국의 ...  \n",
       "3     이계로 통하는 차원 문 흐으윽 강성호는 기지개를 켜며 일어났다 오늘도 지겨운 하루가...  \n",
       "4     이 작품은 픽션입니다 실제 인물 단체와는 일절 관계가 없습니다 이 책은 주 한국저작...  \n",
       "...                                                 ...  \n",
       "1378  디르크 로스만지음 서경홍옮김 이 책의 한국어판 저작권은 모모 에이전시를 통해 사와의...  \n",
       "1379  히가시노 게이고 일본 최고의 베스트셀러 작가 년 오사카 출생 오사카 부립대학 졸업 ...  \n",
       "1380  테릴 리 랭크포드를 위하여 우리는 우리의 삶을 우화처럼 기억한다 작자 불명 본 도서...  \n",
       "1381  와카타케 나나미 일본 코지 미스터리의 여왕 년 도쿄에서 태어나 릿쿄 대학 문학부를 ...  \n",
       "1382  이승우 년 전남 장흥에서 태어났다 년 한국문학 신인상을 받으며 작품 활동을 시작했다...  \n",
       "\n",
       "[1383 rows x 2 columns]"
      ]
     },
     "execution_count": 100,
     "metadata": {},
     "output_type": "execute_result"
    }
   ],
   "source": [
    "df"
   ]
  },
  {
   "cell_type": "code",
   "execution_count": null,
   "id": "ad9ff8a5",
   "metadata": {},
   "outputs": [],
   "source": [
    "from konlpy.tag import Mecab\n",
    "from tqdm.auto import tqdm\n",
    "from gensim.models.doc2vec import TaggedDocument"
   ]
  },
  {
   "cell_type": "code",
   "execution_count": 105,
   "id": "f73a9a4f",
   "metadata": {},
   "outputs": [
    {
     "data": {
      "application/vnd.jupyter.widget-view+json": {
       "model_id": "8a970025192e4ce989f76784a813f00f",
       "version_major": 2,
       "version_minor": 0
      },
      "text/plain": [
       "  0%|          | 0/1383 [00:00<?, ?it/s]"
      ]
     },
     "metadata": {},
     "output_type": "display_data"
    },
    {
     "name": "stdout",
     "output_type": "stream",
     "text": [
      "문서의 수 : 1383\n"
     ]
    }
   ],
   "source": [
    "mecab = Mecab('C:\\mecab\\mecab-ko-dic')\n",
    "\n",
    "tagged_corpus_list = []\n",
    "\n",
    "for index, row in tqdm(df.iterrows(), total=len(df)):\n",
    "  text = row['preview']\n",
    "  tag = row['title']\n",
    "  tagged_corpus_list.append(TaggedDocument(tags=[tag], words=mecab.morphs(text)))"
   ]
  },
  {
   "cell_type": "code",
   "execution_count": 106,
   "id": "b73dd32e",
   "metadata": {},
   "outputs": [
    {
     "data": {
      "text/plain": [
       "TaggedDocument(words=['염', '영숙', '여사', '가', '가방', '안', '에', '파우', '치가', '없', '다는', '걸', '알', '았', '을', '때', '기차', '는', '평택', '부근', '을', '지나', '고', '있', '었', '다', '문제', '는', '어디', '서', '그것', '을', '잃어버렸', '는지', '도무지', '기억', '이', '나', '지', '않', '는다는', '것', '이', '었', '다', '파우', '치', '를', '잃', '었', '다는', '현실', '보다', '감퇴', '되', '는', '기억력', '이', '그녀', '를', '더욱', '불안', '하', '게', '만들', '었', '다', '어느새', '식은땀', '을', '흘리', '며', '그녀', '는', '자신', '의', '지난', '행적', '을', '필사', '적', '으로', '떠올려', '보', '았', '다', '서울', '역', '에서', '기차표', '를', '끊', '을', '때', '까지', '는', '분명', '파우', '치', '를', '지니', '고', '있', '었', '다', '그러', '니', '파우', '치', '에', '든', '지갑', '에서', '카드', '를', '꺼내', '표', '를', '끊', '을', '수', '있', '었', '겠', '지', '이후', '대합실', '앞', '에', '앉', '아', '시간', '뉴스', '채널', '을', '보', '며', '여', '분간', '기차', '를', '기다렸', '다', '탑승', '하', '고', '는', '가방', '을', '안', '은', '채', '잠시', '잠', '이', '들', '었', '고', '깨어나', '보', '니', '모든', '것', '은', '그대로', '였', '다', '방금', '전', '휴대폰', '을', '꺼내', '려고', '가방', '을', '열', '었', '을', '때', '안', '에', '있', '어야', '할', '파우', '치가', '없', '는', '것', '에', '소스라치', '게', '놀랐', '을', '뿐', '이', '었', '다', '지갑', '통장', '수첩', '등', '자신', '의', '가장', '중요', '한', '것', '들', '이', '담긴', '파우', '치가', '없', '다는', '것', '에', '그녀', '는', '숨', '이', '막힐', '지경', '이', '었', '다', '염', '여사', '는', '자신', '이', '타', '고', '있', '는', '기차', '의', '속력', '에', '뒤지', '지', '않', '게', '두뇌', '를', '가동', '해야', '했', '다', '차창', '밖', '으로', '빠르', '게', '지나가', '버리', '는', '풍경', '을', '되돌리', '기', '라도', '할', '듯', '기억', '을', '리', '와인', '드', '했', '다', '혼잣말', '에다', '다리', '를', '떨', '며', '골몰', '해', '있', '는', '그녀', '의', '행동', '에', '옆', '자리', '중년', '사내', '가', '헛기침', '을', '했', '다', '그녀', '의', '몰입', '을', '방해', '한', '건', '옆', '자리', '사내', '의', '헛', '기침', '이', '아니', '라', '가방', '안', '에서', '울린', '휴대폰', '착신', '음악', '이', '었', '다', '아바', '의', '노래', '였', '는데', '곡명', '이', '떠오르', '지', '않', '았', '다', '치키', '티', '타', '였', '나', '댄싱', '퀸', '이', '었', '나', '아이', '고', '준', '희', '야', '할머니', '가', '진짜', '치매', '오', '려나', '보다', '염', '여사', '는', '떨리', '는', '손', '으로', '가방', '안', '휴대폰', '을', '꺼내', '고', '나', '서', '야', '곡명', '이', '땡큐', '포', '더', '뮤직', '이', '라는', '것', '을', '기억', '해냈', '다', '동시', '에', '낯선', '번호', '로', '전화', '가', '오', '는', '것', '을', '확인', '했', '다', '그녀', '는', '심호흡', '을', '한', '뒤', '전화', '를', '받', '았', '다', '여보세요', '상대방', '은', '대답', '이', '없', '었', '다', '다만', '주변', '의', '소음', '이', '공공장소', '임', '을', '짐작', '케', '했', '다', '누구', '세요', '염', '영숙', '이', '에요', '사람', '의', '목소리', '라기', '엔', '너무나', '거칠', '고', '불분명', '했', '다', '마치', '겨울잠', '을', '끝낸', '곰', '이', '동굴', '에서', '나와', '처음', '입', '을', '열', '면', '나올', '법', '한', '소리', '였', '다', '예', '그런데', '요', '지갑', '요', '맞', '아요', '주우', '신', '분', '인가요', '어디', '시', '죠', '서울', '서울', '어디', '요', '혹시', '서울역', '아닌가요', '그쵸', '서울', '역', '그녀', '는', '안도', '의', '한숨', '을', '휴대폰', '옆', '으로', '내쉰', '뒤', '목청', '을', '가다듬', '었', '다', '지갑', '찾', '아', '주', '셔서', '고맙', '습니다', '그런데', '제', '가', '지금', '기차', '안', '이', '고요', '다음', '역', '에', '내려', '바로', '돌아갈', '테', '니까', '좀', '보관', '해', '주', '시', '거나', '어디', '맡겨', '주', '실', '수', '있', '나요', '사례', '는', '제', '가', '가', '는', '대로', '해', '드릴게요', '여기', '있', '죠', '갈', '데', '도', '없', '죠', '그래요', '알', '겠', '어요', '서울역', '어디', '서', '만날까요', '고', '공항', '철도', '가', '는', '길', '편의점', '요', '고맙', '습니다', '빨리', '갈게요', '천천히', '와요', '알', '겠', '어요', '고맙', '습니다', '전화', '를', '끊', '고', '나', '자', '기분', '이', '묘했', '다', '휴대폰', '너머', '로', '들리', '는', '동물', '의', '음성', '같', '은', '어눌', '한', '말투', '는', '그', '가', '노숙', '자임', '을', '확신', '케', '했', '다', '무엇', '보다', '갈', '데', '도', '없', '죠', '라는', '말뜻', '으로', '보', '나', '공중', '전화', '가', '분명', '한', '번호', '로', '보', '나', '그', '는', '휴대폰', '이', '없', '는', '노숙', '자', '가', '분명', '했', '다', '염', '여사', '는', '잠시', '긴장', '하', '지', '않', '을', '수', '없', '었', '다', '지갑', '을', '돌려준다는', '데', '도', '뭔가', '불안', '하', '고', '다른', '걸', '요구', '할까', '두려움', '이', '번졌', '다', '하지만', '전화', '까지', '해', '지갑', '을', '순순히', '돌려', '준다고', '호의', '를', '베푸', '는', '사내', '가', '굳이', '해코지', '를', '할', '것', '같', '진', '않', '았', '다', '사례', '비', '로', '지갑', '속', '현찰', '만', '원', '을', '건네', '면', '충분', '할', '듯', '했', '다', '마침', '천안', '에', '정차', '할', '거', '라는', '안내', '방송', '이', '나왔', '다', '염', '여사', '는', '휴대폰', '을', '가방', '에', '넣', '고', '자리', '에서', '일어났', '다', '돌아가', '는', '기차', '가', '수원', '을', '지날', '즈음', '다시', '휴대폰', '이', '울렸', '다', '땡큐', '포', '더', '뮤직', '의', '가사', '를', '치매', '예방', '하', '듯', '되뇌', '며', '액정', '을', '확인', '하', '니', '아까', '와', '같', '은', '번호', '였', '다', '염', '여사', '는', '불안', '한', '기분', '을', '애써', '억누르', '며', '전화', '를', '받', '았', '다', '저', '요', '사내', '의', '웅크린', '듯', '한', '목소리', '가', '들려왔', '다', '염', '여사', '는', '변명', '하', '는', '학생', '을', '상대', '할', '때', '처럼', '목소리', '에', '힘', '을', '주', '었', '다', '말씀', '하', '세요', '저', '선생', '님', '배', '가', '고파', '서요', '그래서', '요', '편의점', '도시락', '아', '안', '돼요', '순간', '염', '여사', '의', '마음', '에', '미열', '이', '일', '었', '다', '선생', '님', '이', '라는', '호칭', '과', '도시락', '이', '라는', '단어', '가', '그녀', '를', '한결', '너그럽', '게', '만들', '어', '주', '는', '걸', '느낄', '수', '있', '었', '다', '그러', '세요', '도시락', '사', '드', '시', '고', '요', '목마', '를', '테', '니', '음료수', '도', '같이', '사', '드', '시', '고', '계세요', '고', '고마워요', '전화', '를', '끊', '고', '얼마', '지나', '지', '않', '아', '휴대폰', '에', '결제', '문자', '가', '떴', '다', '이건', '마치', '편의점', '계산대', '앞', '에서', '전화', '한', '게', '아닌가', '할', '정도', '로', '재빠른', '시간', '이', '었', '다', '많이', '도', '배고픈', '걸', '보', '니', '그', '의', '정체', '는', '서울역', '의', '맹주', '비둘기', '의', '친구', '노숙', '자', '가', '확실', '했', '다', '자세히', '살펴보', '니', '박찬호', '투', '머치', '찬', '많', '은', '도시락', '원', '이', '라', '떠', '있', '었', '다', '음료수', '는', '안', '사', '먹', '은', '거', '보', '니', '염치', '는', '있', '나', '보군', '염', '여사', '는', '혹시', '모르', '니', '누군가', '를', '불러야', '할까', '고민', '했', '던', '마음', '을', '접', '고', '그', '와', '단', '둘', '이', '만나', '기', '로', '했', '다', '일흔', '에', '치매', '염려', '증상', '이', '있', '다고', '는', '하나', '여전히', '그녀', '는', '자신', '의', '위엄', '을', '믿', '었', '다', '교단', '에서', '정년', '을', '맞', '을', '때', '까지', '한', '번', '도', '비굴', '하', '게', '굴', '지', '않', '고', '당당히', '온갖', '학생', '들', '을', '상대', '했', '던', '자신', '을', '믿', '기', '로', '했', '다', '서울', '역', '에', '도착', '하', '고', '바로', '공항철도', '로', '내려가', '는', '에스컬레이터', '를', '발견', '했', '다', '에스컬레이터', '로', '내려가', '자', '전방', '오른편', '에', '편의점', '이', '있', '었', '고', '곰', '의', '목소리', '를', '지닌', '사내', '가', '도시락', '에', '얼굴', '을', '묻', '은', '채', '그', '앞', '에', '웅크리', '고', '있', '었', '다', '다가갈수록', '분명', '해', '지', '는', '그', '의', '실체', '에', '그녀', '는', '다시', '긴장', '의', '끈', '을', '움켜쥐', '었', '다', '대걸레', '같이', '떡', '이', '져', '있', '는', '장발', '의', '사내', '는', '얇', '은', '스포츠', '점퍼', '와', '더러워져', '베', '이', '지색', '인지', '갈색', '인지', '모를', '면바지', '를', '입', '고', '있', '었', '다', '그런', '그', '가', '매우', '정성', '스러운', '젓가락질', '로', '도시락', '속', '비엔나소시지', '를', '집', '어', '먹', '고', '있', '었', '다', '확실히', '노숙', '자', '다', '염', '여사', '는', '마음', '을', '다', '잡', '고', '다가갔', '다', '그때', '였', '다', '세', '명', '의', '낯선', '사내', '가', '도시락', '을', '먹', '고', '있', '는', '그', '를', '향해', '달려들', '었', '고', '염', '여사', '는', '놀라', '서', '다가가', '던', '발걸음', '을', '멈출', '수', '밖에', '없', '었', '다', '세', '명', '의', '하이에나', '같', '은', '사내', '들', '역시', '노숙', '자임', '이', '분명', '했', '는데', '그', '들', '은', '도시락', '사내', '를', '누르', '고', '뭉갠', '채', '무언가', '를', '뺏', '기', '위해', '안간힘', '을', '써댔', '다', '그녀', '는', '주위', '를', '돌아보', '며', '발', '을', '동동', '굴렀', '지만', '지나', '는', '사람', '들', '은', '노숙', '자', '들', '의', '흔한', '다툼', '으로', '여기', '고', '힐끔대', '기', '만', '할', '뿐', '이', '었', '다', '사내', '는', '먹', '던', '도시락', '을', '떨군', '채', '온몸', '을', '공', '처럼', '웅크리', '고', '방어', '했', '다', '하지만', '결국', '놈', '들', '에', '의해', '목', '이', '졸리', '고', '팔', '이', '들리', '며', '지키', '고', '있', '던', '물건', '을', '빼앗기', '고', '말', '았', '다', '안절부절', '못', '하', '며', '살피', '던', '염', '여사', '의', '시야', '에', '놈', '들', '이', '빼앗', '은', '물건', '이', '확', '들어왔', '다', '자신', '의', '분홍색', '파우', '치였', '다', '도시락', '사내', '를', '떼', '어', '내', '듯', '발', '로', '몇', '번', '밟', '은', '뒤', '노숙', '자', '셋', '이', '자리', '를', '뜨', '기', '시작', '했', '다', '염', '여사', '는', '손발', '이', '떨려', '어찌', '할', '바', '를', '모른', '채', '주저앉', '았', '다', '그때', '사내', '가', '반격', '하', '듯', '일어나', '파우', '치', '를', '쥔', '놈', '을', '향해', '온몸', '을', '던졌', '다', '끄', '아', '아응', '괴성', '과', '함께', '사내', '가', '놈', '의', '다리', '를', '붙잡', '고', '넘어뜨렸', '다', '놈', '을', '짓누르', '며', '다시', '파우', '치', '를', '빼앗', '은', '사내', '를', '곧', '다른', '녀석', '들', '이', '덮쳤', '다', '순간', '염', '여사', '의', '눈', '에', '불', '이', '들어왔', '다', '그녀', '는', '벌떡', '일어나', '그', '들', '을', '향해', '튀', '어', '나가', '며', '목', '에', '핏대', '를', '세웠', '다', '야', '이놈', '들', '아', '그거', '놓', '지', '못해', '그녀', '의', '고함', '과', '돌진', '에', '녀석', '들', '이', '멈칫', '했', '다', '달려간', '그녀', '는', '가방', '을', '들', '어', '맨', '앞', '녀석', '의', '머리', '를', '내리찍', '었', '다', '끄윽', '놈', '이', '고통', '스러워', '하', '자', '다른', '녀석', '들', '이', '일어나', '뒷걸음질', '치', '기', '시작', '했', '다', '도둑', '이', '야', '내', '지갑', '훔쳐', '간다', '이놈', '들', '이', '다', '염', '여사', '의', '앙칼진', '외침', '에', '사람', '들', '이', '멈춰서', '관심', '을', '주', '기', '시작', '하', '자', '녀석', '들', '이', '하나', '둘', '몸', '을', '돌려', '달아나', '기', '시작', '했', '다', '오직', '도시락', '사내', '만', '이', '품', '안', '에', '파우', '치', '를', '끌어안', '은', '채', '웅크리', '고', '있', '었', '다', '그녀', '는', '사내', '에게', '다가갔', '다', '괜찮', '아요', '사내', '가', '고개', '를', '들', '어', '염', '여사', '를', '올려다보', '았', '다', '맞', '아서', '부', '은', '눈두덩', '이', '코피', '와', '콧물', '이', '섞여', '나오', '는', '코', '수염', '으로', '가려진', '입', '이', '마치', '사냥', '을', '나갔', '다', '다쳐', '돌아온', '원시인', '처럼', '보였', '다', '사내', '는', '그제야', '자신', '을', '공격', '하', '던', '놈', '들', '이', '사라진', '것', '을', '깨달', '은', '듯', '서서히', '몸', '을', '일으켜', '앉', '았', '다', '염', '여사', '역시', '손수건', '을', '꺼내', '그런', '사내', '앞', '에', '웅크리', '고', '앉', '았', '다', '순간', '노숙', '자', '특유', '의', '퀴퀴', '하', '고', '역한', '냄새', '가', '코', '에', '훅', '들어왔', '다', '염', '여사', '는', '숨', '을', '참으', '며', '그', '에게', '손수건', '을', '건넸', '다', '사내', '는', '고개', '를', '저', '은', '뒤', '점퍼', '소매', '로', '슥', '코', '를', '문질렀', '다', '그녀', '는', '행여', '파우', '치', '에', '사내', '의', '피', '와', '콧물', '이', '묻', '을까', '염려', '가', '드', '는', '스스로', '에게', '짜증', '이', '일', '었', '다', '진짜', '괜찮', '아요', '사내', '가', '고개', '를', '끄덕이', '곤', '염', '여사', '를', '살폈', '다', '유심히', '살피', '는', '사내', '의', '눈빛', '에', '그녀', '는', '잠시', '자신', '이', '무얼', '잘못', '한', '거', '라도', '있', '나', '걱정', '이', '들', '었', '고', '어서', '자리', '를', '뜨', '고', '싶', '은', '마음', '이', '앞섰', '다', '그래', '이제', '파우', '치', '를', '돌려받', '아야', '했', '다', '고마워요', '그거', '챙겨', '줘서', '사내', '가', '자신', '의', '왼팔', '로', '감싼', '파우', '치', '를', '오른', '손', '으로', '집', '더니', '그녀', '에게', '건넸', '다', '그런데', '염', '여사', '가', '파우', '치', '를', '받', '으려는', '순간', '사내', '가', '다시', '그것', '을', '자기', '품', '으로', '회수', '했', '다', '놀란', '그녀', '를', '꼼꼼', '하', '게', '살피', '며', '그', '가', '파우', '치', '를', '열', '었', '다', '뭐', '하', '는', '거', '예요', '주인', '맞', '아요', '그럼요', '내', '가', '주인', '이', '니까', '알', '고', '온', '거', '잖', '아요', '아까', '나', '랑', '통화', '한', '거', '기억', '안', '나', '요', '터무니없', '는', '그', '의', '의심', '에', '염', '여사', '는', '기분', '이', '나빠', '지', '려', '했', '다', '사내', '는', '가타부타', '말없이', '파우', '치', '를', '뒤져', '지갑', '을', '찾', '았', '고', '거기', '서', '신분증', '을', '꺼내', '살폈', '다', '주민', '번호', '요', '아니', '내', '가', '지금', '거짓말', '하', '는', '거', '같', '아요', '확실', '해야', '해요', '이거', '주인', '돌려줄', '채', '책임', '이', '있', '어요', '거기', '주민', '등록증', '에', '내', '사진', '붙', '어', '있', '잖아요', '비교', '해', '봐요', '사내', '는', '맞', '아서', '부', '은', '눈', '을', '끔뻑', '이', '며', '주민', '등록증', '과', '염', '여사', '를', '번갈', '아', '살폈', '다', '사진', '안', '같', '아', '보여요', '황당', '함', '에', '염', '여사', '는', '자기', '도', '모르', '게', '혀', '를', '찼', '다', '화', '도', '나', '지', '않', '았', '다', '오래', '오래', '됐', '어요', '사진', '사내', '가', '덧붙였', '다', '오래', '된', '사진', '이', '지만', '분명', '염', '여사', '의', '얼굴', '이', '고', '알아볼', '만', '도', '한데', '아마도', '건강', '상태', '를', '반영', '하', '는', '듯', '사내', '의', '시력', '에', '문제', '가', '있', '는', '것', '같', '았', '다', '혹은', '그녀', '가', '정말', '몰라보', '게', '늙', '었', '거나', '주민', '번호', '마', '말', '해', '봐요', '휴', '염', '여사', '는', '짧', '은', '한숨', '을', '쉰', '뒤', '사내', '를', '향해', '또박또박', '말', '했', '다', '오', '이', '공', '칠', '이', '오', '됐', '어요', '마', '맞', '다', '확실히', '해야죠', '그쵸', '사내', '가', '동의', '를', '구하', '는', '눈짓', '과', '함께', '주민', '등록증', '을', '지갑', '에', '넣', '고', '다시', '파우', '치', '에', '담', '아', '건넸', '다', '염', '여사', '는', '파우', '치', '를', '받', '았', '다', '한바탕', '소동', '이', '정리', '되', '는', '기분', '이', '들', '자', '사내', '에게', '고마움', '이', '물결치', '기', '시작', '했', '다', '다른', '노숙', '자', '들', '에게', '맞', '아', '가', '면서', '까지', '파우', '치', '를', '지킨', '것', '부터', '주인', '에게', '잘', '돌려주', '기', '위해', '꼼꼼', '하', '게', '확인', '을', '한', '것', '까지', '사실', '어지간', '한', '책임감', '이', '아니', '면', '할', '수', '없', '는', '행동', '이', '기', '때문', '이', '었', '다', '그때', '사내', '가', '끙', '소리', '를', '내', '며', '일어섰', '다', '염', '여사', '도', '자리', '에서', '일어나', '서둘러', '지갑', '에서', '현찰', '만', '원', '을', '꺼냈', '다', '여기', '요', '건넨', '돈', '을', '보', '고', '사내', '가', '망설이', '는', '게', '느껴졌', '다', '받', '아요', '사내', '는', '현찰', '로', '손', '을', '뻗', '는', '대신', '점퍼', '로', '손', '을', '넣', '어', '정체', '를', '알', '수', '없', '는', '휴지', '뭉치', '를', '꺼냈', '다', '그걸로', '코피', '가', '흐르', '는', '코', '를', '훔쳤', '다', '그러', '고', '는', '돌', '아서', '걷', '기', '시작', '했', '다', '사례', '비', '를', '쥔', '손', '이', '민망', '해진', '그녀', '는', '한동안', '사내', '를', '바라보', '았', '다', '그', '는', '웅크리', '고', '도시락', '을', '먹', '던', '편의점', '앞', '으로', '허우적허우적', '걸어가', '더니', '몸', '을', '숙였', '다', '그녀', '는', '사내', '를', '뒤따라갔', '다', '편의점', '앞', '아까', '먹', '던', '도시락', '이', '뒤집', '어', '진', '광경', '을', '보', '며', '사내', '는', '혼잣말', '을', '하', '고', '있', '었', '다', '뒤이', '어', '탄식', '하', '는', '소리', '도', '들렸', '다', '한동안', '그', '의', '뒷모습', '을', '살피', '던', '염', '여사', '가', '몸', '을', '숙여', '등', '을', '두드렸', '다', '사내', '가', '돌아보', '자', '그녀', '는', '주눅', '든', '학생', '을', '다독일', '때', '의', '표정', '을', '지', '어', '보였', '다', '아저씨', '나', '랑', '잠깐', '어디', '가요', '예', '서부역', '방면', '으로', '나오', '며', '사내', '는', '잠시', '멈칫', '했', '다', '마치', '자연', '의', '품', '을', '떠나', '아스팔트', '위', '트럭', '에', '올라타', '길', '거부', '하', '는', '초식', '동물', '같', '았', '다', '염', '여사', '는', '재촉', '하', '듯', '손짓', '을', '해', '결국', '그', '를', '서울역', '역사', '에서', '빠져', '나오', '게', '했', '고', '함께', '갈월동', '길', '을', '걸', '었', '다', '사내', '는', '염', '여사', '의', '속도', '에', '맞춰', '몇', '보', '쯤', '간격', '을', '두', '고', '뒤', '를', '따랐', '고', '그녀', '는', '잰걸음', '으로', '갈월동', '을', '지나', '청파동', '을', '향해', '나아갔', '다', '늦가을', '은행나무', '가로수', '에서', '떨어진', '열매', '가', '사내', '와', '비슷', '한', '냄새', '를', '풍기', '고', '있', '었', '다', '염', '여사', '는', '왜', '대뜸', '그', '를', '데리', '고', '나왔', '는지', '에', '대해', '생각', '해', '보', '았', '다', '사례', '를', '거부', '한', '사내', '에게', '어떻게', '든', '보상', '하', '고', '싶', '었', '다', '사내', '가', '필사', '적', '으로', '자신', '의', '파우', '치', '를', '지킨', '것', '에', '대한', '보상', '이', '자', '노숙', '자', '임', '에', '도', '올바른', '행동', '을', '한', '걸', '지지', '해', '주', '고', '싶', '었', '다', '오랜', '시간', '교단', '에', '서', '있', '으며', '몸', '에', '밴', '학생', '들', '의', '행동', '에', '대한', '피드백', '이', '여기', '서', '도', '발휘', '된', '것', '이', '사실', '이', '다', '무엇', '보다', '염', '여사', '는', '모태', '신앙', '으로', '생애', '전부', '를', '크리스천', '으로', '살아왔', '고', '먼저', '선한', '사마리아인', '의', '모습', '을', '보여준', '노숙', '자', '사내', '에게', '자신', '역시', '선한', '사마리아인', '이', '되', '고', '싶', '었', '다', '분', '쯤', '걸', '었', '을까', '서부역', '뒤편', '의', '칙칙', '한', '거리', '가', '끝나', '고', '세련', '된', '큰', '교회', '빌딩', '이', '눈', '에', '들어왔', '다', '여대', '앞', '인지라', '청바지', '에', '점퍼', '를', '입', '은', '여학생', '들', '이', '깔깔대', '며', '지나갔', '고', '방송', '을', '통해', '유명', '해진', '분식집', '앞', '에', '는', '사람', '들', '이', '줄지', '어', '서', '있', '었', '다', '염', '여사', '가', '뒤', '를', '돌아보', '자', '사내', '는', '두리번대', '며', '거리', '풍경', '을', '살피', '기', '에', '여념', '이', '없', '었', '다', '그녀', '와', '사내', '를', '피해', '가', '는', '사람', '들', '도', '있', '었', '다', '그녀', '는', '자신', '과', '사내', '의', '조합', '이', '사람', '들', '에게', '어떻게', '보일지', '궁금', '하', '기', '도', '하', '고', '걱정', '이', '되', '기', '도', '했', '다', '이곳', '청파동', '이', '바로', '자신', '의', '동네', '이', '기', '때문', '이', '었', '다', '그리고', '자신', '의', '매장이', '자리', '한', '곳', '이', '기', '도', '했', '다', '숙명', '여대', '방향', '으로', '접어든', '염', '여사', '는', '사내', '를', '꼬리', '처럼', '매단', '채', '골목', '을', '두어', '번', '지나', '작', '은', '삼거리', '에', '다다랐', '다', '삼', '거리', '로', '갈라지', '는', '모퉁이', '에', '자리', '한', '편의점', '그곳', '이', '염', '여사', '가', '소유', '한', '작', '은', '사업체', '였', '고', '사내', '에게', '다시', '도시락', '을', '제공', '할', '수', '있', '는', '공간', '이', '었', '다', '편의점', '문', '을', '열', '고', '염', '여사', '가', '사내', '에게', '들어오', '라고', '손짓', '했', '다', '사내', '는', '쭈뼛거리', '다가', '그녀', '의', '뒤', '를', '따랐', '다', '어서', '오', '세요', '아', '오', '셨', '어요', '아르바이트', '생', '시현', '이', '휴대폰', '을', '내려놓', '으며', '염', '여사', '에게', '미소', '로', '인사', '했', '다', '염', '여사', '도', '미소', '로', '답', '하', '는', '데', '순간', '시현', '의', '표정', '이', '뜨악', '해', '지', '는', '게', '보였', '다', '괜찮', '아', '손', '님', '이', '야', '손', '님', '이', '라는', '말', '에', '사내', '를', '살피', '는', '시현', '의', '표정', '이', '더', '일그러졌', '다', '염', '여사', '는', '그녀', '가', '어른', '이', '되', '려면', '한참', '은', '멀', '었', '다', '생각', '하', '며', '사내', '의', '팔', '을', '끌', '고', '도시락', '진열대', '로', '향했', '다', '사내', '는', '눈치', '가', '빠른', '건지', '아니', '면', '아무', '생각', '이', '없', '는', '건지', '묵묵히', '염', '여사', '를', '따랐', '다', '마음껏', '골라요', '먹', '고', '싶', '은', '거', '여기', '내', '가', '운영', '하', '는', '편의점', '이', '니까', '눈치', '보', '지', '말', '고', '마음껏', '그럼', '음', '엥', '입맛', '을', '다시', '던', '사내', '가', '갑자기', '입', '을', '벌린', '채', '멍해졌', '다', '왜', '요', '먹', '고', '싶', '은', '게', '없', '어요', '박찬호', '도시락', '없', '어요', '여긴', '편의점', '이', '아니', '에요', '박찬호', '도시락', '은', '에서', '만', '팔', '거든요', '여기', '도', '맛있', '는', '거', '많', '아요', '한번', '골라', '봐요', '박찬호', '가', '도시락', '도', '잘', '해요', '사내', '의', '라이벌', '편의점', '도시락', '타령', '에', '기', '가', '막힌', '염', '여사', '는', '앞', '에', '있', '는', '제일', '큰', '도시락', '을', '집', '어', '들이밀', '었', '다', '이거', '먹', '어요', '산해진미', '도시락', '이거', '반찬', '도', '많', '고', '좋', '아', '도시락', '을', '받', '아', '든', '사내', '는', '신중', '하', '게', '반찬', '의', '가짓수', '를', '세', '어', '보', '았', '다', '찬', '이', '다', '그거', '면', '노숙', '자', '에겐', '수라상', '이', '다', '이', '녀석', '아', '염', '여사', '가', '도시락', '을', '탐구', '하', '듯', '살피', '는', '사내', '를', '보', '며', '속', '엣', '말', '을', '했', '다', '확인', '이', '끝났', '는지', '사내', '는', '고개', '를', '들', '고', '그녀', '에게', '꾸벅', '인사', '했', '다', '그러', '고', '는', '마치', '자기', '지정석', '인', '양', '가게', '를', '나가', '야외', '테이블', '로', '향했', '다', '녹색', '플라스틱', '야외', '테이블', '은', '금세', '사내', '의', '작', '은', '식탁', '이', '되', '었', '다', '사내', '는', '마치', '귀중품', '을', '다루', '듯', '도시락', '뚜껑', '을', '연', '뒤', '정성', '을', '들여', '젓가락', '을', '갈라', '두', '개', '로', '만든', '후', '밥', '을', '한술', '떠', '입', '에', '넣', '었', '다', '염', '여사', '는', '사내', '의', '행동', '하나하나', '를', '살피', '다', '돌', '아서', '컵', '된', '장국', '을', '하나', '집', '어', '와', '계산대', '에', '올렸', '다', '시현', '이', '바로', '알아채', '고', '바코드', '를', '찍', '었', '고', '염', '여사', '는', '된장국', '에', '온수', '를', '부', '은', '뒤', '수저', '를', '챙겨', '밖', '으로', '나갔', '다', '같이', '먹', '어요', '국물', '이', '있', '어야', '좀', '낫', '지', '염', '여사', '가', '내려놓', '은', '된장국', '과', '그녀', '의', '얼굴', '을', '번갈', '아', '살피', '던', '사내', '는', '수저', '를', '건넬', '새', '도', '없이', '들', '어', '한', '모금', '마셨', '다', '그', '는', '뜨거움', '따윈', '잊', '은', '듯', '된장국', '의', '반', '을', '후루룩', '마신', '뒤', '고개', '를', '끄덕이', '곤', '다시', '젓가락질', '을', '했', '다', '편의점', '으로', '들어가', '종이컵', '에', '물', '을', '따라', '온', '염', '여사', '는', '그것', '을', '사내', '의', '옆', '에', '내려놓', '은', '뒤', '맞은편', '에', '앉', '았', '다', '그녀', '는', '사내', '가', '도시락', '먹', '는', '걸', '바라보', '았', '다', '겨울잠', '을', '자', '고', '나와', '배고픈', '건지', '겨울잠', '을', '자기', '위해', '영양', '을', '채워야', '하', '는', '건지', '아무튼', '꿀통', '파먹', '는', '곰', '꼴', '이', '다', '노숙', '자', '라면', '하루', '세', '끼', '온전히', '먹', '기', '도', '힘들', '텐데', '덩치', '는', '또', '왜', '저렇게', '좋', '은', '걸까', '그녀', '는', '노숙', '자', '가', '살', '이', '찌', '는', '게', '빈곤층', '의', '비만', '율', '이', '높', '은', '것', '과', '같', '은', '이치', '가', '아닐까', '생각', '했', '다', '아니면', '너무', '허겁지겁', '먹', '어서', '그럴지', '도', '모르', '겠', '다', '천천히', '먹', '어요', '아무', '도', '안', '뺏', '어', '먹', '으니까', '사내', '가', '볶음', '김치', '국물', '을', '입', '에', '묻힌', '채', '염', '여사', '를', '올려다보', '았', '다', '아까', '의', '경계', '어린', '눈빛', '이', '아닌', '고분고분', '한', '표정', '이', '다', '맛있', '어', '요', '사내', '가', '옆', '에', '둔', '도시락', '뚜껑', '을', '보', '고', '는', '다시', '덧붙였', '다', '진짜', '사', '산해진미', '사내', '는', '말', '을', '끝맺', '는', '대신', '고개', '숙여', '꾸벅', '인사', '를', '하', '곤', '다시', '된장국', '을', '들', '어', '마셨', '다', '제법', '안정', '감', '있', '게', '행동', '하', '는', '걸', '보', '니', '허기', '를', '채워', '정신', '이', '든', '듯', '했', '다', '남', '은', '어묵', '볶음', '을', '젓가락', '질', '하', '는', '그', '를', '보', '며', '염', '여사', '는', '묘한', '만족감', '을', '느꼈', '다', '얼마', '안', '남', '은', '어묵', '볶음', '을', '집요', '하', '게', '집', '으려', '하', '는', '그', '의', '안간힘', '에서', '삶', '의', '숭고', '함', '을', '엿보았', '기', '때문', '이', '다', '앞', '으로', '배고플', '때', '이리', '로', '와요', '언제', '라도', '도시락', '먹', '고', '가요', '사내', '가', '젓가락질', '을', '멈추', '더니', '눈', '을', '똥그랗', '게', '뜨', '고', '그녀', '를', '응시', '했', '다', '알', '바', '들', '에게', '말', '해', '둘', '테', '니', '돈', '낼', '거', '없이', '그냥', '먹', '으면', '돼요', '폐', '폐기', '된', '거', '말', '이', '죠', '아니', '새', '거', '먹', '어요', '왜', '폐기', '된', '거', '를', '먹', '어요', '알', '바', '들', '폐기', '된', '거', '먹', '어요', '나', '그거', '아주', '최고', '예요', '우리', '편의점', '은', '폐기', '된', '거', '안', '먹여요', '알바', '한테', '도', '당신', '한테', '도', '그러니까', '제대로', '된', '거', '먹', '어요', '내', '그리', '말', '해', '둘', '테', '니까', '사내', '가', '잠시', '어리둥절', '해', '하', '더니', '다시', '꾸벅', '인사', '를', '하', '고', '어묵', '볶음', '조각', '을', '집', '으려', '애썼', '다', '염', '여사', '는', '진작', '가져온', '수저', '를', '그제야', '그', '에게', '건넸', '다', '그', '가', '수저', '를', '받', '더니', '침팬지', '가', '스마트폰', '을', '보', '듯', '잠시', '멈칫', '했', '다', '하지만', '곧', '한', '번', '배운', '자전거', '타', '기', '를', '시간', '이', '지나', '도', '몸', '이', '기억', '하', '는', '것', '처럼', '수저', '로', '어묵', '볶음', '조각', '을', '긁어모아', '담', '았', '다', '그런', '뒤', '만족', '스럽', '게', '그것', '을', '입', '으로', '가져갔', '다', '깔끔', '하', '게', '비운', '플라스틱', '도시락', '에서', '고개', '를', '든', '사내', '가', '염', '여사', '를', '보', '았', '다', '잘', '먹', '었', '습니다', '고맙', '습니다', '나', '야말로', '파우', '치', '지켜줘', '고마워요', '그게', '원래', '두', '놈', '이', '챙겼', '어요', '두', '놈', '요', '예', '그래서', '나', '두', '놈', '혼내', '고', '뺏', '었', '어요', '그', '지갑', '든', '거', '그럼', '내', '파우', '치', '를', '훔친', '놈', '들', '에게서', '댁', '이', '그걸', '굳이', '뺏', '었', '다는', '거', '예요', '나', '한테', '돌려주', '려고', '사내', '가', '고개', '를', '끄덕이', '며', '염', '여사', '가', '떠다', '준', '종이컵', '의', '물', '을', '마셨', '다', '두', '놈', '이', '면', '나', '이겨요', '셋', '은', '힘들', '어', '걔', '들', '다음', '에', '따로', '나', '한테', '혼나', '요', '말', '을', '마친', '사내', '가', '서울역', '상황', '을', '떠올리', '다', '분', '이', '나', '는지', '이', '를', '드러냈', '다', '누런', '이', '와', '그', '사이', '에', '낀', '고춧가루', '가', '염', '여사', '의', '눈살', '을', '찌푸리', '게', '했', '지만', '자신', '의', '힘', '을', '과시', '하', '는', '그', '의', '모습', '에서', '생기', '가', '느껴져', '기분', '이', '풀렸', '다', '사내', '가', '남', '은', '물', '을', '마시', '고', '주위', '를', '살폈', '다', '근데', '여기', '어디', '죠', '여기', '청파동', '푸른', '언덕', '푸른', '언덕', '좋', '네요', '사내', '가', '우거진', '수염', '속', '입꼬리', '를', '올리', '곤', '도시락', '과', '된장국', '용기', '를', '집', '어', '들', '고', '일어났', '다', '자연', '스러운', '행동', '인', '양', '재활', '용통', '에', '그것', '들', '을', '버린', '사내', '는', '염', '여사', '앞', '에', '와', '점퍼', '에서', '다시', '휴지', '뭉치', '를', '꺼내', '입', '을', '닦', '았', '다', '그러', '고', '는', '도로', '몸', '을', '숙여', '인사', '한', '뒤', '편의점', '을', '등졌', '다', '염', '여사', '는', '퇴근', '하', '는', '직장인', '처럼', '서울역', '방향', '으로', '걸어가', '는', '사내', '의', '뒷모습', '을', '바라보', '다가', '편의점', '으로', '들어왔', '다', '그녀', '가', '들어오', '자마자', '시현', '이', '호기심', '어린', '눈', '으로', '이것저것', '묻', '기', '시작', '했', '다', '염', '여사', '는', '파우', '치', '를', '잃어버렸', '다는', '걸', '깨달', '은', '기차', '안', '상황', '에서부터', '지금', '까지', '의', '일', '을', '털어놓', '았', '다', '그런', '염', '여사', '의', '이야기', '에', '시현', '은', '신기', '함', '과', '걱정', '이', '반반', '섞인', '어머', '어머', '추임새', '를', '연신', '터뜨렸', '다', '재밌', '는', '사람', '이', '야', '경우', '가', '있', '어서', '노숙', '자', '라고', '는', '믿기', '지', '가', '않', '네', '제', '가', '보', '기', '엔', '그냥', '노숙', '잔데', '지갑', '에', '혹시', '없', '어', '진', '거', '있', '나', '보', '세요', '염', '여사', '가', '파우', '치', '를', '열', '고', '살폈', '다', '모든', '게', '그대로', '다', '시현', '을', '향해', '그것', '보', '라는', '듯', '웃', '던', '염', '여사', '가', '문득', '지갑', '에서', '신분증', '을', '꺼내', '들', '어', '보였', '다', '달', '라', '보이', '니', '똑같', '으신데', '요', '흰머리', '조금', '빼', '곤', '하나', '도', '안', '늙', '어', '보이', '세요', '염', '여사', '는', '직접', '주민', '등록증', '의', '증명사진', '을', '자세히', '들여다보', '았', '다', '확실히', '증명사진', '과', '지금', '의', '자신', '은', '꽤', '달라', '보였', '다', '분하', '지만', '그', '사람', '말', '이', '맞', '네', '예', '경우', '가', '있', '어', '시현', '이', '넌', '배려', '가', '있', '고', '염', '여사', '는', '시현', '에게', '앞', '으로', '그', '덩치', '큰', '노숙', '자', '사내', '가', '오', '면', '도시락', '을', '주', '라고', '한', '뒤', '알바', '모두', '에게', '전하', '라고', '지시', '했', '다', '시현', '은', '마뜩', '잖은', '표정', '을', '지', '어', '보이', '면서', '도', '편의점', '단', '톡', '방', '에', '염', '여사', '의', '지시', '사항', '을', '올리', '기', '시작', '했', '다', '염', '여사', '는', '흡족', '한', '표정', '으로', '편의점', '을', '돌아보', '았', '다', '그러', '다', '금세', '풀', '이', '죽', '었', '다', '노숙자', '사내', '가', '도시락', '을', '먹', '는', '동안', '왔', '다', '간', '손', '님', '이', '전혀', '기억나', '지', '않', '았', '다', '정말로', '치매', '일지', '도', '모른다는', '걱정', '에', '침', '이', '다', '쓰', '게', '느껴졌', '다', '그럼에도', '선행', '을', '받', '았', '고', '베풀', '었', '다', '이', '정도', '면', '괜찮', '은', '하루', '였', '다고', '생각', '하', '기', '로', '했', '다', '그런데', '부산', '안', '가', '세요', '아이고', '내', '정신', '봐', '아직', '하루', '는', '끝', '나', '지', '않', '았', '다', '늦', '게라도', '오늘', '밤', '까진', '부산', '에', '도착', '해야', '했', '다', '사촌', '언니', '의', '장례식', '이', '있', '었', '고', '간', '김', '에', '며칠', '더', '부산', '에서', '보낼', '계획', '이', '었', '다', '염', '여사', '는', '파우', '치', '를', '가방', '에', '잘', '집어넣', '고', '다시', '서울', '역', '으로', '향했', '다', '부산', '에서', '닷새', '간', '일', '을', '보', '고', '돌아온', '염', '여사', '가', '편의점', '에', '들렀', '다', '그녀', '가', '들어왔', '을', '때', '시현', '은', '커플', '손님', '의', '음료', '계산', '을', '하', '며', '눈', '으로', '인사', '를', '했', '다', '그리고', '커플', '손', '님', '이', '나가', '자마자', '계산대', '를', '나와', '그녀', '를', '향해', '다가왔', '다', '안부', '인사', '와', '편의점', '엔', '별일', '없', '었', '냐는', '문답', '이', '오가', '고', '나', '자', '시현', '이', '기다렸', '다는', '듯', '염', '여사', '옆', '에', '착', '붙', '어', '말', '했', '다', '사장', '님', '그', '사람', '매일', '하루', '도', '안', '빼놓', '고', '왔', '어요', '누구', '말', '이', '냐', '아', '노숙자', '사내', '예', '매일', '제', '시간', '에', '와서', '도시락', '하나', '씩', '꼬박', '먹', '고', '갔', '어요', '다른', '알', '바', '들', '타임', '에', '는', '안', '왔', '다더냐', '예', '제', '시간', '에', '만', '왔', '더라고요', '그럼', '그', '사람', '이', '너', '좋', '아', '하', '는', '거', '아니', '니', '염', '여사', '의', '짓궂', '은', '농담', '에', '시현', '이', '질색', '하', '는', '표정', '을', '지으며', '눈', '을', '흘겼', '다', '염', '여사', '는', '웃', '으며', '농담', '이', '라는', '말', '로', '시현', '의', '투정', '을', '받', '아', '주', '었', '다', '근데', '요', '사장', '님', '생각', '해', '보', '니까', '제', '시간', '에', '만', '오', '는', '게', '저녁', '여덟', '시', '폐기', '시간', '맞춰', '오', '는', '거', '더라고요', '뭐', '새', '거', '주', '라고', '했', '잖니', '말', '했', '죠', '근데', '새', '거', '드', '시', '라', '해도', '곧', '죽', '어라', '폐기', '도시락', '먹', '겠', '다고', '우기', '더라고요', '그래도', '내', '가', '새', '거', '주', '겠', '다고', '말', '했', '는데', '성', '의', '없', '게', '되', '잖아', '사장', '님', '그게', '쉽', '지', '않', '은', '게요', '그', '사람', '웅얼웅얼', '거리', '며', '계속', '카운터', '앞', '에서', '우겨', '대', '면', '요', '일단', '냄새', '가', '나', '요', '편의점', '에', '큰', '똥', '이', '하나', '놓여', '있', '는', '꼴', '이', '라고', '요', '심지어', '그', '사람', '이', '카운터', '에', '있', '는', '거', '보', '고', '들어오', '던', '손', '님', '이', '나간', '적', '도', '있', '다고요', '어쩌', '겠', '어요', '빨리', '치우', '려면', '그', '사람', '원', '하', '는', '대로', '빨리', '줘서', '내보내', '는', '방법', '밖에', '없', '더라고요', '게다가', '내보내', '고', '나선', '환기', '도', '시켜야', '하', '고요', '휴', '알', '겠', '다', '제', '가', '보', '기', '엔', '작정', '한', '거', '라니까요', '어떻게', '귀신', '같이', '알', '았', '는지', '도시락', '폐기', '시간', '딱', '맞춰', '오', '더라니까요', '경우', '가', '있', '어', '역시', '어제', '는', '좀', '늦', '길래', '어디', '아픈가', '걱정', '이', '다', '되', '더라고요', '시현', '이', '혀', '로', '입술', '을', '쓸', '며', '정말', '걱정', '하', '는', '모습', '을', '보이', '자', '염', '여사', '는', '헛웃음', '이', '나왔', '다', '키', '만', '크', '고', '빠짝', '마른', '몸', '에', '마음', '까지', '여린', '시현', '을', '볼', '때', '마다', '염', '여사', '는', '바람', '에', '정신없이', '흔들리', '는', '가게', '홍보', '풍선', '인형', '이', '떠오르', '곤', '했', '다', '시현', '이', '너', '그렇게', '착해서', '어떻게', '세상', '을', '살려', '그러', '니', '사장', '님', '이야말로', '노숙', '자', '한테', '도시락', '을', '맨날', '주실', '순진', '한', '생각', '을', '하', '시', '다니', '그', '사람', '이', '불쑥', '동료', '들', '까지', '데려오', '면', '어쩌', '려고', '그러', '셨', '어요', '시현', '이', '되받아친다', '아무렴', '풍선', '인형', '도', '탄력', '이', '있', '다', '그럴', '사람', '은', '아니', '더라', '에이', '어떻게', '그걸', '다', '아세요', '내', '가', '사람', '보', '는', '눈', '은', '있', '어', '그러', '니', '너', '도', '고용', '한', '거', '아니', '냐', '역시', '대단', '하', '세요', '존재', '하', '지', '않', '는', '막내딸', '같', '은', '시현', '과', '의', '대거리', '는', '늘', '즐겁', '다', '염', '여사', '는', '어서', '시현', '이', '공무원', '시험', '에', '합격', '해', '당당히', '이곳', '을', '뜨', '기', '를', '바라', '면서', '도', '한편', '으로', '는', '편의점', '을', '떠날', '그녀', '를', '생각', '하', '니', '서운', '함', '이', '벌써', '뭉게뭉게', '일', '었', '다', '딸랑', '방울', '소리', '와', '함께', '손', '님', '이', '들어오', '고', '시현', '이', '인사', '와', '함께', '카운터', '로', '돌아갔', '다', '염', '여사', '는', '편의점', '을', '돌아보', '며', '남', '은', '도시락', '을', '살폈', '다', '조만간', '도시락', '폐기', '시간', '에', '한', '번', '나와', '보', '기', '로', '마음', '을', '먹', '었', '다', '이름', '도', '모르', '는', '노숙', '자', '사내', '의', '이름', '을', '묻', '기', '위해', '그날', '밤', '집', '에', '와', '를', '보', '며', '까무룩', '잠', '이', '들', '었', '던', '염', '여사', '는', '전화벨', '소리', '에', '깼', '다', '액정', '을', '보', '니', '아들', '이', '란', '단어', '가', '떠', '있', '었', '고', '시간', '은', '자정', '을', '막', '지나', '고', '있', '었', '다', '그', '두', '가지', '조합', '이', '주', '는', '부담', '에', '배', '속', '에서', '신물', '이', '올라오', '는', '걸', '느끼', '며', '전화', '를', '받', '았', '다', '역시', '취기', '가득', '한', '목소리', '가', '휴대폰', '너머', '에서', '들려왔', '다', '아들', '은', '그녀', '가', '부산', '에', '다녀온', '줄', '도', '몰랐', '고', '그녀', '의', '생일', '이', '내일', '인', '것', '도', '몰랐다', '그럼에도', '염', '여사', '를', '사랑', '한다고', '사랑', '함', '에', '도', '효도', '를', '잘', '못', '해', '죄송', '하', '다고', '말', '했', '다', '반복', '된', '레퍼토리', '의', '결말', '은', '역시', '편의점', '의', '상태', '에', '대한', '존재', '론', '적', '인', '질문', '이', '었', '다', '염', '여사', '는', '네', '가', '신경', '쓸', '것', '없', '다고', '말', '했', '다', '아들', '의', '대답', '은', '늘', '그렇', '듯', '장사', '가', '안', '되', '는', '편의점', '을', '정리', '해', '자신', '의', '사업', '에', '필요', '한', '자금', '을', '대', '면', '어머니', '가', '더', '여유', '있', '고', '평온', '하', '게', '사실', '수', '있', '다는', '뜬구름', '잡', '는', '소리', '였', '다', '참다못한', '염', '여사', '는', '세', '게', '던지', '고', '말', '았', '다', '민', '식', '아', '가족', '한테', '사', '기', '치', '는', '거', '아니', '다', '엄마', '엄마', '는', '왜', '나', '를', '못', '믿', '어요', '아들', '이', '정말', '그럴', '사람', '이', '야', '역사', '교사', '로', '정년', '을', '보낸', '내', '가', '한', '마디', '하', '자면', '국가', '고', '사람', '이', '고', '다', '지난', '일', '을', '가지', '고', '평가', '받', '는', '거', '란다', '네', '가', '그동안', '한', '짓', '들', '을', '떠올려', '봐라', '너', '는', '너', '자신', '을', '믿', '을', '수', '있', '니', '휴', '엄마', '나', '외로워', '누나', '도', '엄마', '도', '왜', '날', '더', '외롭', '게', '하', '는', '거', '야', '가족', '이', '대체', '왜', '술주정', '하', '는', '거', '면', '전화', '끊', '어라', '엄마', '전화', '를', '끊', '고', '염', '여사', '는', '주방', '으로', '향했', '다', '심장', '이', '기름', '튀', '는', '불판', '에', '올려진', '것', '처럼', '아팠', '다', '통증', '이', '지글거리', '는', '소리', '를', '내', '며', '가슴', '전체', '를', '압박', '해', '왔', '다', '그녀', '는', '냉장고', '를', '열', '고', '캔', '맥주', '를', '따', '서', '벌컥벌컥', '들이켰', '다', '가슴', '의', '불', '을', '심장', '의', '고통', '을', '끄', '기', '라도', '할', '기세', '로', '마시', '다', '보', '니', '사레', '가', '들려', '캑캑', '거', '려야', '했', '다', '술', '취한', '아들', '의', '흰소리', '를', '잊', '기', '위해', '술', '을', '마시', '는', '자신', '의', '모습', '이', '한심', '했', '다', '어떡', '해야', '할지', '정말', '모르', '겠', '다', '깔끔', '한', '판단력', '과', '결단력', '으로', '지금', '까지', '인생', '을', '무난', '하', '게', '살아왔', '다고', '생각', '했', '다', '하지만', '자식', '의', '문제', '는', '늘', '그녀', '를', '고장', '난', '저울', '로', '만들', '었', '다', '편의점', '을', '정리', '해', '아들놈', '의', '사업', '인지', '사기', '인지', '를', '돕', '는다고', '치', '자', '잃', '는다고', '치', '고', '그럼', '무엇', '이', '이어질까', '그건', '아마', '남', '은', '유일', '한', '재산', '인', '이', '방', '두', '개', '빌', '라', '겠지', '청파동', '언덕', '에서', '년', '째', '빛바랜', '채', '서', '있', '는', '구옥', '빌라', '의', '층', '염', '여사', '의', '마지막', '터전', '까지', '빨리', '고', '나', '서', '야', '아들', '은', '실패', '를', '멈출지', '도', '모르', '겠', '다', '인정', '하', '기', '싫', '지만', '아들', '은', '못난이', '에', '준사기', '꾼', '이', '다', '며느리', '역시', '그걸', '알', '게', '되', '었', '는지', '결혼', '후', '년', '이', '되', '어', '갈', '즈음', '부랴부랴', '이혼', '했', '고', '그때', '는', '며느리', '의', '야멸찬', '결정', '에', '분노', '했', '지만', '결국', '잘못', '은', '대부분', '아들', '에게', '있', '다는', '걸', '인정', '할', '수', '밖에', '없', '었', '다', '이혼', '후', '년', '간', '아들', '은', '남', '은', '재산', '마저', '다', '털어먹', '고', '초라', '한', '꼴', '이', '되', '었', '다', '이럴', '때', '유일', '하', '게', '도울', '수', '있', '는', '엄마', '인', '나', '는', '나', '는', '무얼', '하', '고', '있', '는', '걸까', '서울역', '노숙자', '의', '끼니', '는', '걱정', '하', '면서', '집', '나', '가', '술', '취해', '허덕이', '고', '있', '는', '아들', '은', '왜', '못', '챙기', '는', '걸까', '염', '여사', '는', '맥주', '를', '마저', '비운', '뒤', '식탁', '에서', '곧장', '기도', '를', '드리', '기', '시작', '했', '다', '할', '수', '있', '는', '것', '은', '기도', '와', '간구', '뿐', '이', '었', '다', '생일', '을', '맞', '아', '염', '여사', '는', '딸', '과', '사위', '그리고', '무한', '한', '행복', '인', '손녀', '준', '희', '와', '함께', '했', '다', '이번', '엔', '딸', '네', '가족', '이', '청파동', '으로', '오', '지', '않', '고', '자신', '들', '동네', '의', '주상', '복합', '건물', '내', '한우', '집', '으로', '그녀', '를', '초대', '했', '다', '딸', '의', '동부', '이촌동', '하이', '에', '코', '빌리지', '와', '염', '여사', '의', '청파동', '빌라', '는', '같', '은', '용산구', '에', '자리', '하', '지만', '하늘', '과', '땅만큼', '의', '간극', '이', '있', '다', '용산구', '가', '바야흐로', '서울', '에서', '강남', '구', '다음', '으로', '부동산', '이', '비싼', '동네', '가', '되', '었', '지만', '염', '여사', '의', '청파동', '은', '여전히', '언덕', '의', '오밀조밀', '빌라', '와', '대학', '하숙촌', '이', '자리', '한', '서민', '동네', '다', '딸', '과', '사위', '는', '늘', '은행', '이', '집', '주인', '이', '라며', '말', '을', '돌리', '지만', '야무지', '게', '돈', '을', '모아', '준', '희', '가', '중학교', '에', '갈', '때', '쯤', '이', '면', '강남', '의', '알짜배기', '땅', '으로', '진군', '하', '는', '걸', '목표', '로', '하', '고', '있', '다', '염', '여사', '는', '자신', '의', '보수', '적', '인', '경제', '관념', '과', '는', '다른', '공격', '적', '이', '고', '야심', '찬', '재테크', '와', '살림', '을', '보이', '는', '게', '딸', '의', '능력', '인지', '사위', '의', '재주', '인지', '가끔', '궁금', '했으나', '그', '모든', '게', '두', '사람', '에게', '시너지', '로', '작용', '한다는', '걸', '이해', '하', '게', '되', '었', '다', '결혼', '한', '뒤', '로', '딸', '은', '점점', '딸', '같', '지', '않', '아', '보이', '고', '사위', '는', '더욱', '사돈댁', '사람', '같', '아', '보였', '다', '다행', '이', '라면', '아들', '처럼', '다투', '고', '이혼', '하', '는', '것', '보단', '죽', '이', '맞', '아', '잘', '사', '는', '딸', '네', '가족', '이', '그나마', '덜', '걱정', '된다는', '것', '이', '다', '하', '지만', '염', '여사', '는', '대화', '의', '방향', '이나', '결', '모든', '것', '이', '달라진', '딸', '과', '의', '관계', '가', '용산', '에서', '강남', '으로', '넘어갈', '때', '쯤', '이', '면', '그', '물리', '적', '거리', '만큼', '이나', '더', '멀', '어', '질', '거', '라는', '걸', '어렴풋이', '느끼', '는', '중', '이', '었', '다', '그런', '와중', '에', '한우', '라니', '비싼', '집', '으로', '소문난', '이곳', '을', '엄마', '의', '생일', '이', '라고', '장모', '의', '생일', '이', '라고', '이렇게', '모시', '다니', '솔직히', '감동', '보다', '는', '부담', '이', '앞서', '는', '게', '사실', '이', '다', '그동안', '딸', '네', '가족', '은', '늘', '숙대', '입구', '의', '한', '돼지', '갈', '빗', '집', '에서', '염', '여사', '의', '생일', '을', '챙겨왔', '기', '때문', '이', '다', '불편', '한', '마음', '으로', '앉', '아', '있', '던', '염', '여사', '는', '손녀', '준', '희', '를', '보', '며', '웃음', '을', '머금', '었', '다', '물론', '준', '희', '는', '스마트폰', '으로', '유튜브', '를', '보', '느라', '할머니', '의', '눈길', '은', '신경', '도', '쓰', '지', '않', '지만', '그래도', '좋', '을', '따름', '이', '다', '사위', '와', '딸', '은', '자기', '들', '대로', '적', '립식', '이', '니', '보', '장식', '이', '니', '금융', '상품', '얘기', '를', '하', '는', '데', '알', '아들', '을', '길', '이', '없', '고', '어서', '한우', '가', '나와', '음식', '에', '만', '집중', '하', '고', '싶', '었', '다', '오늘', '은', '내', '생일', '즐길', '자격', '이', '있', '는', '건', '나', '자신', '뿐', '이', '라고', '그녀', '는', '생각', '했', '다', '음식', '이', '나왔', '다', '염', '여사', '는', '사위', '가', '구워', '주', '는', '고기', '를', '자신', '의', '입', '으로', '가져가', '는', '데', '주력', '했', '다', '딸', '은', '준', '희', '를', '챙겼', '고', '사위', '는', '부지런히', '고기', '를', '구웠', '다', '마침내', '딸', '이', '맥주', '를', '따라준', '뒤', '건배', '하', '고', '는', '기다렸', '다는', '듯', '입', '을', '열', '었', '다', '엄마', '준', '희', '이번', '에', '태권', '도', '학원', '다니', '기', '로', '했', '거든', '여자', '애', '가', '태권도', '까지', '뭘', '또', '아니', '배우', '신', '분', '이', '왜', '이럴까', '엄마', '태권', '도', '배우', '는', '데', '남녀', '가', '어딨', '어', '준', '희', '저번', '에', '남자', '애', '한테', '맞', '고', '왔', '단', '말', '이', '야', '태권', '도', '배워서', '함부로', '구', '는', '놈', '들', '한테', '맞서', '겠', '다고', '준', '희', '가', '먼저', '얘기', '한', '거', '라고', '딸', '의', '말', '이', '맞', '다', '염', '여사', '는', '구태의연', '했', '던', '자신', '의', '생각', '이', '민망', '했', '고', '어쩔', '수', '없이', '표정', '이', '굳어졌', '다', '사위', '가', '눈치', '를', '보', '는', '가운데', '딸', '이', '맥주잔', '을', '비웠', '다', '염', '여사', '는', '서둘러', '준', '희', '를', '돌아보', '며', '표정', '을', '풀', '었', '다', '준', '희', '야', '태권', '도', '배우', '고', '싶', '어', '응', '준', '희', '는', '유튜브', '에서', '눈', '도', '안', '떼', '고', '답', '했', '다', '그래서', '말', '인데', '엄마', '동네', '에', '좋', '은', '태권', '도장', '이', '있', '다네', '사범', '이', '아주', '괜찮', '다고', '하', '더라고', '국가', '대표', '상비군', '경력', '에', '젊', '고', '마인드', '도', '좋', '고', '여기', '동촌', '맘', '카페', '에서', '아주', '소문났', '더라고', '동촌', '맘', '카페', '동부', '이촌동', '엄마', '들', '모임', '이', '야', '인터넷', '에', '있', '어', '그럼', '그', '사범', '은', '멍청', '한', '거', '아니', '니', '돈', '되', '는', '동부', '이촌동', '으로', '도장', '을', '옮겨야', '지', '청파동', '골목', '에', '눌러', '있', '으면', '어떡', '해', '그', '사범', '도', '그러', '려고', '하', '지', '근데', '여기', '가', '좀', '비싸', '잖아', '아무튼', '이', '동네', '들어오', '길', '기다릴', '순', '없', '고', '준', '희', '를', '거기', '보내', '야', '해서', '엄마', '도움', '이', '좀', '필요', '할', '거', '같', '아', '부드럽', '기', '그지없', '는', '한우', '가', '갑자기', '이빨', '에', '걸린', '듯', '잘', '씹히', '지', '않', '았', '다', '염', '여사', '는', '당연히', '준', '희', '와', '함께', '하', '는', '시간', '이', '싫', '지', '않', '다', '하지만', '그', '시간', '을', '자신', '이', '선택', '할', '수', '없', '다는', '점', '이', '마음', '에', '걸렸', '다', '딸', '은', '태권', '도장', '과', '바이올린', '학원', '사이', '에', '비', '는', '준', '희', '의', '두', '시간', '을', '염', '여사', '가', '챙겨', '주', '길', '바랐', '다', '덧붙여', '학원', '셔틀버스', '가', '애매', '하', '기', '에', '바이올린', '학원', '은', '염', '여사', '가', '직접', '버스', '를', '태워', '데려다', '줘야', '했', '다', '은퇴', '한', '노인', '이', '자', '딱히', '일과', '가', '없', '어', '보이', '는', '할머니', '가', '손녀', '의', '두', '시간', '남짓', '을', '챙겨', '주', '는', '게', '어려운', '일', '은', '아니', '다', '하', '지만', '염', '여사', '에게', '도', '일과', '는', '있', '다', '편의점', '도', '수시로', '점검', '해야', '하', '고', '교회', '봉사', '도', '해야', '하', '며', '치매', '예방', '을', '위한', '영단', '어', '필사', '도', '매일', '해야', '한다', '하지만', '그런', '염', '여사', '의', '일과', '는', '딸', '이나', '손녀', '의', '일', '과', '겹치', '면', '후', '순위', '로', '밀리', '는', '게', '당연', '한', '것', '이', '되', '고', '만', '다', '염', '여사', '는', '딸', '의', '요청', '을', '수락', '할', '수', '밖에', '없', '었', '다', '수고비', '언급', '은', '없', '었', '지만', '사위', '와', '딸', '이', '알', '아서', '챙겨', '줄', '거', '라는', '믿음', '을', '지닌', '채', '두말', '없이', '수락', '했', '다', '버스', '를', '타', '고', '홀로', '돌아오', '는', '길', '에', '염', '여사', '는', '편의점', '직원', '들', '을', '떠올렸', '다', '지지리', '도', '말', '안', '듣', '는', '아들', '놈', '과', '오지', '게', '도', '잘난', '딸년', '보다', '요즘', '은', '함께', '일', '하', '는', '직원', '들', '이', '가족', '같', '고', '편하', '다', '이렇게', '말', '하', '면', '딸', '은', '또', '직원', '들', '을', '가족', '같이', '대하', '면', '악덕', '업주', '니', '옳', '지', '않', '다느니', '따지', '겠', '지만', '사실', '이', '그런', '걸', '어쩌', '랴', '직원', '들', '에게', '날', '가족', '같이', '생각', '해', '달', '라는', '것', '도', '아니', '고', '내', '가', '직원', '들', '을', '가족', '같이', '여겨', '무리', '한', '업무', '를', '부탁', '하', '는', '것', '도', '아니', '다', '염', '여사', '는', '지금', '가까이', '의지', '할', '수', '있', '는', '사람', '들', '이', '편의점', '직원', '들', '이', '기에', '그런', '생각', '을', '하', '는', '거', '라고', '스스로', '를', '다독였', '다', '오전', '에', '편의점', '을', '책임지', '는', '오', '여사', '는', '동네', '에서', '년', '을', '알', '아', '온', '친구', '이', '자', '같', '은', '교회', '성도', '이', '기', '도', '하', '다', '실제로', '그녀', '는', '염', '여사', '를', '친언니', '처럼', '따르', '고', '지난', '시간', '함께', '고락', '을', '나누', '지', '않', '았', '던가', '오후', '의', '시현', '은', '딸', '같', '기', '도', '하', '고', '조카', '같', '기', '도', '한', '게', '늘', '챙겨', '주', '고', '싶', '게', '만든다', '일', '한', '지', '년', '이', '다', '되', '어', '가', '지만', '가끔', '계산', '을', '틀리', '는', '것', '빼', '고', '는', '말썽', '하나', '피운', '적', '이', '없', '다', '무엇', '보다', '뻔질나', '게', '사람', '이', '들', '고', '나', '는', '편의점', '알바', '자리', '를', '년', '간', '채워', '준', '것', '만', '해도', '업', '어', '줄', '지경', '이', '다', '그런', '면', '에서', '오픈', '즈음', '부터', '편의점', '의', '밤', '을', '책임지', '고', '있', '는', '성', '필', '씨', '역시', '그녀', '에게', '는', '일', '등', '공신', '이', '다', '대', '중반', '의', '성', '필', '씨', '는', '년', '전', '편의점', '을', '오픈', '한', '뒤', '수시로', '그만두', '는', '야간', '알', '바', '때문', '에', '골치', '가', '아프', '던', '차', '에', '제', '발', '로', '온', '복덩이', '였', '다', '편의점', '부근', '반', '지하', '에', '사', '는', '두', '아이', '를', '둔', '가장', '인', '그', '는', '종종', '담배', '를', '사', '가', '던', '동네', '아저씨', '였', '다', '그런', '그', '가', '야간', '알바', '구인', '전단', '을', '붙이', '자마자', '자신', '도', '일', '할', '수', '있', '느냐고', '물', '어', '왔', '다', '그', '는', '마침', '실직', '상태', '였', '고', '재취업', '이', '어려운', '상황', '이', '라', '야간', '알바라', '도', '해서', '생활비', '를', '벌', '어야', '한다고', '힘주', '어', '말', '했', '다', '염', '여사', '는', '가장', '의', '간절', '함', '이', '느껴', '지', '는', '그', '에게', '기존', '시급', '에', '백', '원', '을', '더', '얹', '어', '주', '었', '다', '마침'], tags=['불편한 편의점'])"
      ]
     },
     "execution_count": 106,
     "metadata": {},
     "output_type": "execute_result"
    }
   ],
   "source": [
    "tagged_corpus_list[0]"
   ]
  },
  {
   "cell_type": "code",
   "execution_count": 108,
   "id": "224ca3d0",
   "metadata": {},
   "outputs": [],
   "source": [
    "from gensim.models import doc2vec"
   ]
  },
  {
   "cell_type": "code",
   "execution_count": 116,
   "id": "ade15389",
   "metadata": {},
   "outputs": [],
   "source": [
    "model = doc2vec.Doc2Vec(vector_size=300, alpha=0.025, min_alpha=0.025, workers=8, window=8)\n",
    "\n",
    "# Vocabulary 빌드\n",
    "model.build_vocab(tagged_corpus_list)\n",
    "print(f\"Tag Size: {len(model.docvecs.}\", end=' / ')\n",
    "\n",
    "# Doc2Vec 학습\n",
    "model.train(tagged_corpus_list, total_examples=model.corpus_count, epochs=50)\n",
    "\n",
    "# 모델 저장\n",
    "model.save('dart.doc2vec')"
   ]
  },
  {
   "cell_type": "code",
   "execution_count": 117,
   "id": "be8da12b",
   "metadata": {},
   "outputs": [
    {
     "name": "stdout",
     "output_type": "stream",
     "text": [
      "[('데미안 - 세계문학전집 044', 0.7842997908592224), ('데미안 (한글판) 010', 0.7684170007705688), ('데미안 - 더모던타임즈 05', 0.7625490427017212), ('데미안 초판본', 0.7608472108840942), ('데미안 (한글+영문)', 0.7216196060180664), (nan, 0.6912968158721924), ('산책자', 0.4096621870994568), ('수레바퀴 아래서 - 세계문학전집 050', 0.389054536819458), ('벌들의 역사', 0.3884177803993225), ('매혹당한 사람들', 0.38129723072052)]\n"
     ]
    },
    {
     "name": "stderr",
     "output_type": "stream",
     "text": [
      "C:\\Users\\kissd\\AppData\\Local\\Temp/ipykernel_15928/191081944.py:1: DeprecationWarning: Call to deprecated `docvecs` (The `docvecs` property has been renamed `dv`.).\n",
      "  similar_doc = model.docvecs.most_similar('데미안')\n"
     ]
    }
   ],
   "source": [
    "similar_doc = model.docvecs.most_similar('데미안')\n",
    "print(similar_doc)"
   ]
  },
  {
   "cell_type": "code",
   "execution_count": 126,
   "id": "2b47b63f",
   "metadata": {},
   "outputs": [
    {
     "name": "stdout",
     "output_type": "stream",
     "text": [
      "[('초판본 이상한 나라의 앨리스', 0.8883811831474304), ('이상한 나라의 앨리스 - 허밍버드 클래식 01', 0.6895854473114014), ('초판본 거울나라의 앨리스', 0.4555482864379883), ('거울나라의 앨리스 (한글판) 102', 0.45213863253593445), ('이솝 이야기 1 (한글판) 054', 0.42808037996292114), ('곰돌이 푸 이야기 전집', 0.39486485719680786), ('곰돌이 푸 1 (한글판) 113', 0.39189422130584717), ('앨리스 죽이기', 0.3838582932949066), ('피터 래빗 이야기 2 (한글판) 092', 0.38213077187538147), ('오즈의 마법사 3 (한글판) 056', 0.37808918952941895)]\n"
     ]
    },
    {
     "name": "stderr",
     "output_type": "stream",
     "text": [
      "C:\\Users\\kissd\\AppData\\Local\\Temp/ipykernel_15928/2400074225.py:1: DeprecationWarning: Call to deprecated `docvecs` (The `docvecs` property has been renamed `dv`.).\n",
      "  similar_doc = model.docvecs.most_similar('이상한 나라의 앨리스')\n"
     ]
    }
   ],
   "source": [
    "similar_doc = model.docvecs.most_similar('')\n",
    "print(similar_doc)"
   ]
  },
  {
   "cell_type": "code",
   "execution_count": null,
   "id": "4cd8db95",
   "metadata": {},
   "outputs": [],
   "source": []
  }
 ],
 "metadata": {
  "kernelspec": {
   "display_name": "Python 3 (ipykernel)",
   "language": "python",
   "name": "python3"
  },
  "language_info": {
   "codemirror_mode": {
    "name": "ipython",
    "version": 3
   },
   "file_extension": ".py",
   "mimetype": "text/x-python",
   "name": "python",
   "nbconvert_exporter": "python",
   "pygments_lexer": "ipython3",
   "version": "3.9.7"
  }
 },
 "nbformat": 4,
 "nbformat_minor": 5
}
